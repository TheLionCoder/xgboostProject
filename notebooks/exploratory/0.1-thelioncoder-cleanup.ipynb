{
 "cells": [
  {
   "cell_type": "code",
   "execution_count": 76,
   "metadata": {},
   "outputs": [],
   "source": [
    "import locale\n",
    "import pandas as pd\n",
    "import urllib.request\n",
    "import zipfile\n",
    "from pathlib import Path"
   ]
  },
  {
   "cell_type": "code",
   "execution_count": 103,
   "metadata": {},
   "outputs": [],
   "source": [
    "from feature_engine import encoding, imputation\n",
    "from sklearn import base, pipeline"
   ]
  },
  {
   "cell_type": "code",
   "execution_count": 77,
   "metadata": {},
   "outputs": [],
   "source": [
    "locale.setlocale(locale.LC_ALL, \"es_ES.UTF-8\")\n",
    "pd.set_option(\"display.max_columns\", None)\n",
    "pd.set_option(\"display.float_format\", \"{:,.1f}\".format)"
   ]
  },
  {
   "attachments": {},
   "cell_type": "markdown",
   "metadata": {},
   "source": [
    "### Set Variables and Paths"
   ]
  },
  {
   "attachments": {},
   "cell_type": "markdown",
   "metadata": {},
   "source": [
    "*Variables*"
   ]
  },
  {
   "cell_type": "code",
   "execution_count": 92,
   "metadata": {},
   "outputs": [],
   "source": [
    "url: str = (\n",
    "    \"https://github.com/mattharrison/datasets/raw/master/data/\" \"kaggle-survey-2018.zip\"\n",
    ")\n",
    "folder_name: str = \"kaggle-survey-2018.zip\"\n",
    "member_name: str = \"multipleChoiceResponses.csv\""
   ]
  },
  {
   "cell_type": "markdown",
   "metadata": {},
   "source": [
    "*Paths*"
   ]
  },
  {
   "cell_type": "code",
   "execution_count": 93,
   "metadata": {},
   "outputs": [],
   "source": [
    "HOME: Path = Path.cwd().parents\n",
    "data_folder: Path = HOME[1] / f\"data/raw/{folder_name}\""
   ]
  },
  {
   "attachments": {},
   "cell_type": "markdown",
   "metadata": {},
   "source": [
    "### Helper Funcs"
   ]
  },
  {
   "cell_type": "code",
   "execution_count": 82,
   "metadata": {},
   "outputs": [],
   "source": [
    "def extract_zip(src: str, dst: str, member_name: str) -> pd.DataFrame:\n",
    "    \"\"\"Extract a member file from a zipfile and read it into a pandas\n",
    "    DataFrame\n",
    "\n",
    "    Args:\n",
    "        src: str \n",
    "            Url of the zip file to be download and extracted.\n",
    "        dst: Path, str, \n",
    "            Local file path where the zip file will be written.\n",
    "        member_name: str\n",
    "            Name of the member file inside the zip file\n",
    "            to be read into a DataFrame.\n",
    "\n",
    "    Returns:\n",
    "        pandas.DataFrame: DataFrame containing the contents of the\n",
    "        member file\n",
    "    \"\"\"\n",
    "    url = src\n",
    "    data_folder = dst\n",
    "    fin = urllib.request.urlopen(url)\n",
    "    data = fin.read()\n",
    "    with open(dst, mode=\"wb\") as fout:\n",
    "        fout.write(data)\n",
    "    with zipfile.ZipFile(dst) as z:\n",
    "        kag = pd.read_csv(z.open(member_name), low_memory=False)\n",
    "        kag_questions = kag.iloc[0]\n",
    "        raw = kag.iloc[1:]\n",
    "        return raw"
   ]
  },
  {
   "cell_type": "code",
   "execution_count": 97,
   "metadata": {},
   "outputs": [],
   "source": [
    "def tweak_kag(df_: pd.DataFrame) -> pd.DataFrame:\n",
    "    \"\"\"\n",
    "    Tweak the kaggle survey data and return a new DataFrame.\n",
    "\n",
    "    This function takes a Pandas Dataframe containing Kaggle\n",
    "    survey data as input and returns a new DataFrame. The modifications include extracting\n",
    "    and trasforming certian columns, renaming columns, and selecting subset of columns.\n",
    "\n",
    "    Args:\n",
    "        df_: pd.DataFrame \n",
    "            The input DataFrame containing kaggle survey data.\n",
    "\n",
    "    Returns:\n",
    "        pd.DataFrame \n",
    "            the new DataFrame with the modified and selected columns.\n",
    "    \"\"\"\n",
    "    return (\n",
    "        df_\n",
    "        .assign(ag=df_.Q2.str.slice(0, 2).asstype(int),\n",
    "                education=df_.Q4.replace({\n",
    "                    \"Master's degree\": 18,\n",
    "                    \"Bachelor's degree\": 16,\n",
    "                    \"Doctoral Degree\": 20,\n",
    "                    \"Some college/university study without earning a bachelor's degree\": 13,\n",
    "                    \"Professional degree\": 19,\n",
    "                    \"I prefer not to answer\": None,\n",
    "                    \"No formal education past high school\": 12}),\n",
    "                major=(\n",
    "            df_.Q5\n",
    "            .pipe(top_n, n=3)\n",
    "            .replace({\n",
    "                \"Computer science (software engineering, etc.)\": 'cs',\n",
    "                \"Engineering (non-computer focused)\": 'eng',\n",
    "                \"Mathematics or statistics\": \"stat\"\n",
    "            })),\n",
    "            years_exp=(\n",
    "                df_.Q8.str.replace('+', '', regex=False)\n",
    "                .str.split(\"-\", expand=True)\n",
    "                .iloc[:, 0]\n",
    "                .astype(float)),\n",
    "            compensation=(\n",
    "                df_.Q9.str.replace('+', '', regex=False)\n",
    "                .str.replace(',', '', regex=False)\n",
    "                .str.replace('500000', '500', regex=False)\n",
    "                .str.replace(\"I do not wish to disclose my approximate yearly compensation\", \n",
    "                '0', regex=False)\n",
    "                .str.split('-', expand=True)\n",
    "                .iloc[:, 0]\n",
    "                .fillna(0)\n",
    "                .astype(int)\n",
    "                .mul(1_000)),\n",
    "            python=df_.Q16_Part_1.fillna(0).replace('Python', 1),\n",
    "            r=df_.Q16_Part_2.fillna(0).replace('r', 1),\n",
    "            sql=df_.Q16_Part_3.fillna(0).replace(\"SQL\", 1)\n",
    "        ) # Assign\n",
    "        .rename(columns=lambda col: col.replace('', '_'))\n",
    "        .loc[: 'Q1, Q3, education, major, years_exp, compensation,'\n",
    "        'python, r, sql'.split(',')]\n",
    "    )\n"
   ]
  },
  {
   "cell_type": "code",
   "execution_count": 99,
   "metadata": {},
   "outputs": [],
   "source": [
    "def top_n(ser: pd.Series, n:int=5, default:str='other') -> pd.Series:\n",
    "    \"\"\"\n",
    "    Replace all values in a Pandas Series that are not among\n",
    "    the top `n` most frequent values with a default value.\n",
    "\n",
    "    This function takes a Pandas Series and returns a new\n",
    "    Series with the values replaced as described above. The\n",
    "    top `n` most frequent values are determined using the\n",
    "    `value counts`method of the input Series.\n",
    "\n",
    "    Args:\n",
    "        ser: Pd.Series,\n",
    "            The input Series.\n",
    "        n: int, optional, default `5`\n",
    "            The number of most frequent values to keep.\n",
    "        default: str, default `other`, optional\n",
    "            The default values to use for values that are not among\n",
    "            the top `n`mos frequent values.\n",
    "\n",
    "    Returns:\n",
    "        pd.Series\n",
    "            The modified Series with the values replaced.\n",
    "    \"\"\"\n",
    "    counts = ser.value_counts()\n",
    "    return ser.where(ser.isin(counts.index[:n], default))"
   ]
  },
  {
   "cell_type": "code",
   "execution_count": 109,
   "metadata": {},
   "outputs": [],
   "source": [
    "def get_rawX_y(df:pd.DataFrame, y_col):\n",
    "    raw = (\n",
    "        df\n",
    "        .query(\"Q3.isin(['United States of America', 'China, 'India']\"\n",
    "        \"and Q6.isin(['Data Scientist', 'Software Engineer])\")\n",
    "    )\n",
    "    return raw.drop(columns=[y_col]), raw[y_col]"
   ]
  },
  {
   "attachments": {},
   "cell_type": "markdown",
   "metadata": {},
   "source": [
    "### Classes"
   ]
  },
  {
   "cell_type": "code",
   "execution_count": 111,
   "metadata": {},
   "outputs": [],
   "source": [
    "class TweakKagTransformer(base.BaseEstimator, base.TransformerMixin):\n",
    "    \"\"\"\n",
    "    A trasformer for tweaking Kaggle survey data.\n",
    "\n",
    "    This trasformer takes a Pandas DataFrame containing\n",
    "    Kaggle survey data as input and returns a new version of\n",
    "    the DataFrame. The modifications include extracting and\n",
    "    trasforming certain columns, renaming columns, and\n",
    "    selecting a subset of columns.\n",
    "\n",
    "    Args:\n",
    "        ycol: str, optional\n",
    "            The name of the column to be used as the target variables.\n",
    "            If not specified, the target variable will not be set.\n",
    "            \n",
    "    Attributes:\n",
    "        ycol: str\n",
    "            The name of the column to be used as the target variable.\n",
    "    \"\"\"\n",
    "\n",
    "    def __init__(self, ycol=None):\n",
    "        self.ycol = ycol\n",
    "\n",
    "    def transform(self, X):\n",
    "        return tweak_kag(X)\n",
    "\n",
    "    def fit(self, X, y=None):\n",
    "        return self"
   ]
  },
  {
   "attachments": {},
   "cell_type": "markdown",
   "metadata": {},
   "source": [
    "#### Datasets"
   ]
  },
  {
   "cell_type": "code",
   "execution_count": 90,
   "metadata": {},
   "outputs": [],
   "source": [
    "raw = extract_zip(url, data_folder, member_name)"
   ]
  },
  {
   "attachments": {},
   "cell_type": "markdown",
   "metadata": {},
   "source": [
    "#### Create a pipeline"
   ]
  },
  {
   "cell_type": "code",
   "execution_count": 112,
   "metadata": {},
   "outputs": [],
   "source": [
    "kag_pl = pipeline.Pipeline(\n",
    "    [('tweak', TweakKagTransformer()),\n",
    "    ('cat', encoding.OneHotEncoder(top_categories=5, drop_last=True,\n",
    "    variables=['Q1', 'Q3', 'major'])),\n",
    "    ('num_impute', imputation.MeanMedianImputer(imputation_method='median',\n",
    "    variables=['education', 'years_exp']))]\n",
    ")"
   ]
  },
  {
   "cell_type": "code",
   "execution_count": null,
   "metadata": {},
   "outputs": [],
   "source": []
  }
 ],
 "metadata": {
  "kernelspec": {
   "display_name": "ml",
   "language": "python",
   "name": "python3"
  },
  "language_info": {
   "name": "python",
   "version": "3.11.0"
  },
  "orig_nbformat": 4
 },
 "nbformat": 4,
 "nbformat_minor": 2
}
