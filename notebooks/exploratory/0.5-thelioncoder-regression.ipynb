{
 "cells": [
  {
   "cell_type": "code",
   "execution_count": 103,
   "id": "initial_id",
   "metadata": {
    "collapsed": true,
    "ExecuteTime": {
     "end_time": "2023-12-02T20:30:56.913902Z",
     "start_time": "2023-12-02T20:30:56.880457Z"
    }
   },
   "outputs": [],
   "source": [
    "from typing import Any\n",
    "import matplotlib.pyplot as plt\n",
    "import numpy as np\n",
    "import pandas as pd\n",
    "from sklearn import (base, linear_model, metrics,\n",
    "                     model_selection, pipeline, tree)\n",
    "import xgboost as xgb\n",
    "from yellowbrick import regressor"
   ]
  },
  {
   "cell_type": "markdown",
   "source": [
    "# Classes"
   ],
   "metadata": {
    "collapsed": false
   },
   "id": "c4cad90e33cb820b"
  },
  {
   "cell_type": "code",
   "execution_count": 43,
   "outputs": [],
   "source": [
    "class TweakDirtyTransformer(base.BaseEstimator, base.TransformerMixin):\n",
    "    def __init__(self, y_col=None):\n",
    "        self.y_col = y_col\n",
    "        self.y_val = None\n",
    "        \n",
    "    def transform(self, X):\n",
    "        return tweak_dirty(X)\n",
    "    \n",
    "    def fit(self, X, y=None):\n",
    "        return self"
   ],
   "metadata": {
    "collapsed": false,
    "ExecuteTime": {
     "end_time": "2023-12-02T20:21:42.283832Z",
     "start_time": "2023-12-02T20:21:42.257306Z"
    }
   },
   "id": "35e166363c3e2f28"
  },
  {
   "cell_type": "markdown",
   "source": [
    "### Helper Functions"
   ],
   "metadata": {
    "collapsed": false
   },
   "id": "90a215769e94a6b6"
  },
  {
   "cell_type": "code",
   "execution_count": 4,
   "outputs": [],
   "source": [
    "def to_denver_time(df_:pd.DataFrame, time_col:str, tz_col:str) -> pd.DataFrame:\n",
    "    \"\"\"Convert datetime column to regional denver time\"\"\"\n",
    "    return (\n",
    "        df_\n",
    "        .assign(**{tz_col: df_[tz_col].replace('MDT', 'MST7MDT')})\n",
    "        .groupby(tz_col)\n",
    "        [time_col]\n",
    "        .transform( lambda series: pd.to_datetime(series)\n",
    "                    .dt.tz_localize(series.name, ambiguous=True)\n",
    "                    .dt.tz_convert('America/Denver')\n",
    "                    )\n",
    "    )"
   ],
   "metadata": {
    "collapsed": false,
    "ExecuteTime": {
     "end_time": "2023-12-02T20:02:17.381556Z",
     "start_time": "2023-12-02T20:02:17.370529Z"
    }
   },
   "id": "6832c2d9e3eeaa63"
  },
  {
   "cell_type": "code",
   "execution_count": 66,
   "outputs": [],
   "source": [
    "def tweak_river(df_: pd.DataFrame) -> pd.DataFrame:\n",
    "    \"\"\"Preprocess the data for regression\"\"\"\n",
    "    return (\n",
    "        df_\n",
    "        .assign(datetime=to_denver_time(df_, \"datetime\", \"tz_cd\"))\n",
    "        .rename(columns={\"144166_00060\": \"cfs\",\n",
    "                         \"144167_00065\": \"gage_height\"})\n",
    "        .loc[:, ['datetime', \"cfs\", \"gage_height\"]]\n",
    "    )"
   ],
   "metadata": {
    "collapsed": false,
    "ExecuteTime": {
     "end_time": "2023-12-02T20:25:21.848951Z",
     "start_time": "2023-12-02T20:25:21.817231Z"
    }
   },
   "id": "e0f17d0a8141ffe"
  },
  {
   "cell_type": "code",
   "execution_count": 67,
   "outputs": [],
   "source": [
    "def tweak_temp(df_: pd.DataFrame) -> pd.DataFrame:\n",
    "    \"\"\"Take the data for regression\"\"\"\n",
    "    return (df_\n",
    "            .assign(DATE=pd.to_datetime(df_[\"DATE\"]).dt.tz_localize('America/Denver', ambiguous=False)\n",
    "                    )\n",
    "            .loc[:, [\"DATE\", \"PRCP\", \"TMIN\", \"TMAX\", \"TOBS\"]]\n",
    "            )"
   ],
   "metadata": {
    "collapsed": false,
    "ExecuteTime": {
     "end_time": "2023-12-02T20:25:23.815222Z",
     "start_time": "2023-12-02T20:25:23.797645Z"
    }
   },
   "id": "3801f53290589992"
  },
  {
   "cell_type": "code",
   "execution_count": 7,
   "outputs": [],
   "source": [
    "def cyclic_encode(adf, col, x_suffix=\"_x\", y_suffix=\"_y\"):\n",
    "    return (adf\n",
    "            .assign(**{f\"{col}{x_suffix}\":\n",
    "            np.sin((2*np.pi*adf[col]) / (adf[col].nunique())),\n",
    "    f\"{col}{y_suffix}\":\n",
    "    np.cos((2*np.pi*adf[col]) /(adf[col].nunique()))\n",
    "})\n",
    "            )"
   ],
   "metadata": {
    "collapsed": false,
    "ExecuteTime": {
     "end_time": "2023-12-02T20:02:20.138848Z",
     "start_time": "2023-12-02T20:02:20.119169Z"
    }
   },
   "id": "e190363354830b1c"
  },
  {
   "cell_type": "code",
   "execution_count": 131,
   "outputs": [],
   "source": [
    "def tweak_dirty(adf: pd.DataFrame) -> pd.DataFrame:\n",
    "    return (adf\n",
    "            .assign(dow=adf[\"DATE\"].dt.day_of_week,\n",
    "                    day=adf[\"DATE\"].dt.day,\n",
    "                    month=adf[\"DATE\"].dt.month,\n",
    "                    doy=adf[\"DATE\"].dt.day_of_year\n",
    "                    )\n",
    "            .query(\"month <= 5\") # limit to spring\n",
    "            .pipe(cyclic_encode, col=\"dow\")\n",
    "            .pipe(cyclic_encode, col=\"day\")\n",
    "            .pipe(cyclic_encode, col=\"month\")\n",
    "            .pipe(cyclic_encode, col=\"doy\")\n",
    "            .loc[:, [\"cfs\", \"gage_height\", \"PRCP\", \"TMIN\", \"TMAX\", \"TOBS\",\n",
    "                     \"dow\", \"day\", \"month\", \"doy\", \"dow_x\", \"dow_y\", \"day_x\", \n",
    "                     \"day_y\", \"month_x\", \"month_y\", \"doy_x\", \"doy_y\"]]\n",
    "        .astype({\"PRCP\": float,\n",
    "                 \"TMIN\": float,\n",
    "                 \"TMAX\": float,\n",
    "                 \"TOBS\": float,\n",
    "                 \"gage_height\": float,\n",
    "                 \"cfs\": float})\n",
    "    )"
   ],
   "metadata": {
    "collapsed": false,
    "ExecuteTime": {
     "end_time": "2023-12-02T20:57:51.663647Z",
     "start_time": "2023-12-02T20:57:51.630889Z"
    }
   },
   "id": "b5aca1adb186d583"
  },
  {
   "cell_type": "markdown",
   "source": [
    "## Load datasets"
   ],
   "metadata": {
    "collapsed": false
   },
   "id": "1e1cf3c09e8a977d"
  },
  {
   "cell_type": "code",
   "execution_count": 9,
   "outputs": [],
   "source": [
    "url: str = \"https://github.com/mattharrison/datasets/raw/master/data/dirtydevil.txt\"\n",
    "url_temp: str = \"https://github.com/mattharrison/datasets/raw/master/data/hanksville.csv\""
   ],
   "metadata": {
    "collapsed": false,
    "ExecuteTime": {
     "end_time": "2023-12-02T20:02:22.880718Z",
     "start_time": "2023-12-02T20:02:22.873043Z"
    }
   },
   "id": "96817be5efbbdf15"
  },
  {
   "cell_type": "code",
   "execution_count": 10,
   "outputs": [],
   "source": [
    "raw_data: pd.DataFrame = pd.read_csv(url, skiprows=lambda num:num<34 or num ==35,\n",
    "                                     sep='\\t', dtype_backend='pyarrow')"
   ],
   "metadata": {
    "collapsed": false,
    "ExecuteTime": {
     "end_time": "2023-12-02T20:02:29.054472Z",
     "start_time": "2023-12-02T20:02:23.824003Z"
    }
   },
   "id": "62afd65ff2a58318"
  },
  {
   "cell_type": "code",
   "execution_count": 11,
   "outputs": [],
   "source": [
    "raw_temp_data: pd.DataFrame = pd.read_csv(url_temp, dtype_backend=\"pyarrow\", engine=\"pyarrow\")"
   ],
   "metadata": {
    "collapsed": false,
    "ExecuteTime": {
     "end_time": "2023-12-02T20:02:31.020940Z",
     "start_time": "2023-12-02T20:02:29.772842Z"
    }
   },
   "id": "87e38236fc364e75"
  },
  {
   "cell_type": "code",
   "execution_count": 12,
   "outputs": [
    {
     "data": {
      "text/plain": "tz_cd\nMDT    341843\nMST    197462\nName: count, dtype: int64[pyarrow]"
     },
     "execution_count": 12,
     "metadata": {},
     "output_type": "execute_result"
    }
   ],
   "source": [
    "raw_data.tz_cd.value_counts()"
   ],
   "metadata": {
    "collapsed": false,
    "ExecuteTime": {
     "end_time": "2023-12-02T20:02:31.738249Z",
     "start_time": "2023-12-02T20:02:31.702066Z"
    }
   },
   "id": "2bdd862e573a4771"
  },
  {
   "cell_type": "code",
   "execution_count": 13,
   "outputs": [
    {
     "data": {
      "text/plain": "          STATION               NAME  LATITUDE  LONGITUDE  ELEVATION  \\\n0     USW00023170  HANKSVILLE, UT US  38.37497 -110.71906     1304.5   \n1     USW00023170  HANKSVILLE, UT US  38.37497 -110.71906     1304.5   \n2     USW00023170  HANKSVILLE, UT US  38.37497 -110.71906     1304.5   \n3     USW00023170  HANKSVILLE, UT US  38.37497 -110.71906     1304.5   \n4     USW00023170  HANKSVILLE, UT US  38.37497 -110.71906     1304.5   \n...           ...                ...       ...        ...        ...   \n6843  USW00023170  HANKSVILLE, UT US  38.37497 -110.71906     1304.5   \n6844  USW00023170  HANKSVILLE, UT US  38.37497 -110.71906     1304.5   \n6845  USW00023170  HANKSVILLE, UT US  38.37497 -110.71906     1304.5   \n6846  USW00023170  HANKSVILLE, UT US  38.37497 -110.71906     1304.5   \n6847  USW00023170  HANKSVILLE, UT US  38.37497 -110.71906     1304.5   \n\n            DATE  DAPR  MDPR  PRCP  SNOW  SNWD  TMAX  TMIN  TOBS  WT01  WT03  \\\n0     2000-01-01  <NA>  <NA>  0.02   0.0   0.0    43    21    28  <NA>  <NA>   \n1     2000-01-02  <NA>  <NA>  0.03   0.0   0.0    39    24    24  <NA>  <NA>   \n2     2000-01-03  <NA>  <NA>  0.00   0.0   0.0    39     7    18  <NA>  <NA>   \n3     2000-01-04  <NA>  <NA>  0.00   0.0   0.0    39     5    25  <NA>  <NA>   \n4     2000-01-05  <NA>  <NA>  0.00   0.0   0.0    44    10    22  <NA>  <NA>   \n...          ...   ...   ...   ...   ...   ...   ...   ...   ...   ...   ...   \n6843  2020-09-20  <NA>  <NA>  0.00   0.0   0.0    92    46    83  <NA>  <NA>   \n6844  2020-09-21  <NA>  <NA>  0.00   0.0   0.0    92    47    84  <NA>  <NA>   \n6845  2020-09-22  <NA>  <NA>  0.00   0.0   0.0    84    54    77  <NA>  <NA>   \n6846  2020-09-23  <NA>  <NA>  0.00   0.0   0.0    91    47    87  <NA>  <NA>   \n6847  2020-09-24  <NA>  <NA>  0.00   0.0   0.0    94    43    88  <NA>  <NA>   \n\n      WT04  WT05  WT06  WT11  \n0     <NA>  <NA>  <NA>  <NA>  \n1     <NA>  <NA>  <NA>  <NA>  \n2     <NA>  <NA>  <NA>  <NA>  \n3     <NA>  <NA>  <NA>  <NA>  \n4     <NA>  <NA>  <NA>  <NA>  \n...    ...   ...   ...   ...  \n6843  <NA>  <NA>  <NA>  <NA>  \n6844  <NA>  <NA>  <NA>  <NA>  \n6845  <NA>  <NA>  <NA>  <NA>  \n6846  <NA>  <NA>  <NA>  <NA>  \n6847  <NA>  <NA>  <NA>  <NA>  \n\n[6848 rows x 20 columns]",
      "text/html": "<div>\n<style scoped>\n    .dataframe tbody tr th:only-of-type {\n        vertical-align: middle;\n    }\n\n    .dataframe tbody tr th {\n        vertical-align: top;\n    }\n\n    .dataframe thead th {\n        text-align: right;\n    }\n</style>\n<table border=\"1\" class=\"dataframe\">\n  <thead>\n    <tr style=\"text-align: right;\">\n      <th></th>\n      <th>STATION</th>\n      <th>NAME</th>\n      <th>LATITUDE</th>\n      <th>LONGITUDE</th>\n      <th>ELEVATION</th>\n      <th>DATE</th>\n      <th>DAPR</th>\n      <th>MDPR</th>\n      <th>PRCP</th>\n      <th>SNOW</th>\n      <th>SNWD</th>\n      <th>TMAX</th>\n      <th>TMIN</th>\n      <th>TOBS</th>\n      <th>WT01</th>\n      <th>WT03</th>\n      <th>WT04</th>\n      <th>WT05</th>\n      <th>WT06</th>\n      <th>WT11</th>\n    </tr>\n  </thead>\n  <tbody>\n    <tr>\n      <th>0</th>\n      <td>USW00023170</td>\n      <td>HANKSVILLE, UT US</td>\n      <td>38.37497</td>\n      <td>-110.71906</td>\n      <td>1304.5</td>\n      <td>2000-01-01</td>\n      <td>&lt;NA&gt;</td>\n      <td>&lt;NA&gt;</td>\n      <td>0.02</td>\n      <td>0.0</td>\n      <td>0.0</td>\n      <td>43</td>\n      <td>21</td>\n      <td>28</td>\n      <td>&lt;NA&gt;</td>\n      <td>&lt;NA&gt;</td>\n      <td>&lt;NA&gt;</td>\n      <td>&lt;NA&gt;</td>\n      <td>&lt;NA&gt;</td>\n      <td>&lt;NA&gt;</td>\n    </tr>\n    <tr>\n      <th>1</th>\n      <td>USW00023170</td>\n      <td>HANKSVILLE, UT US</td>\n      <td>38.37497</td>\n      <td>-110.71906</td>\n      <td>1304.5</td>\n      <td>2000-01-02</td>\n      <td>&lt;NA&gt;</td>\n      <td>&lt;NA&gt;</td>\n      <td>0.03</td>\n      <td>0.0</td>\n      <td>0.0</td>\n      <td>39</td>\n      <td>24</td>\n      <td>24</td>\n      <td>&lt;NA&gt;</td>\n      <td>&lt;NA&gt;</td>\n      <td>&lt;NA&gt;</td>\n      <td>&lt;NA&gt;</td>\n      <td>&lt;NA&gt;</td>\n      <td>&lt;NA&gt;</td>\n    </tr>\n    <tr>\n      <th>2</th>\n      <td>USW00023170</td>\n      <td>HANKSVILLE, UT US</td>\n      <td>38.37497</td>\n      <td>-110.71906</td>\n      <td>1304.5</td>\n      <td>2000-01-03</td>\n      <td>&lt;NA&gt;</td>\n      <td>&lt;NA&gt;</td>\n      <td>0.00</td>\n      <td>0.0</td>\n      <td>0.0</td>\n      <td>39</td>\n      <td>7</td>\n      <td>18</td>\n      <td>&lt;NA&gt;</td>\n      <td>&lt;NA&gt;</td>\n      <td>&lt;NA&gt;</td>\n      <td>&lt;NA&gt;</td>\n      <td>&lt;NA&gt;</td>\n      <td>&lt;NA&gt;</td>\n    </tr>\n    <tr>\n      <th>3</th>\n      <td>USW00023170</td>\n      <td>HANKSVILLE, UT US</td>\n      <td>38.37497</td>\n      <td>-110.71906</td>\n      <td>1304.5</td>\n      <td>2000-01-04</td>\n      <td>&lt;NA&gt;</td>\n      <td>&lt;NA&gt;</td>\n      <td>0.00</td>\n      <td>0.0</td>\n      <td>0.0</td>\n      <td>39</td>\n      <td>5</td>\n      <td>25</td>\n      <td>&lt;NA&gt;</td>\n      <td>&lt;NA&gt;</td>\n      <td>&lt;NA&gt;</td>\n      <td>&lt;NA&gt;</td>\n      <td>&lt;NA&gt;</td>\n      <td>&lt;NA&gt;</td>\n    </tr>\n    <tr>\n      <th>4</th>\n      <td>USW00023170</td>\n      <td>HANKSVILLE, UT US</td>\n      <td>38.37497</td>\n      <td>-110.71906</td>\n      <td>1304.5</td>\n      <td>2000-01-05</td>\n      <td>&lt;NA&gt;</td>\n      <td>&lt;NA&gt;</td>\n      <td>0.00</td>\n      <td>0.0</td>\n      <td>0.0</td>\n      <td>44</td>\n      <td>10</td>\n      <td>22</td>\n      <td>&lt;NA&gt;</td>\n      <td>&lt;NA&gt;</td>\n      <td>&lt;NA&gt;</td>\n      <td>&lt;NA&gt;</td>\n      <td>&lt;NA&gt;</td>\n      <td>&lt;NA&gt;</td>\n    </tr>\n    <tr>\n      <th>...</th>\n      <td>...</td>\n      <td>...</td>\n      <td>...</td>\n      <td>...</td>\n      <td>...</td>\n      <td>...</td>\n      <td>...</td>\n      <td>...</td>\n      <td>...</td>\n      <td>...</td>\n      <td>...</td>\n      <td>...</td>\n      <td>...</td>\n      <td>...</td>\n      <td>...</td>\n      <td>...</td>\n      <td>...</td>\n      <td>...</td>\n      <td>...</td>\n      <td>...</td>\n    </tr>\n    <tr>\n      <th>6843</th>\n      <td>USW00023170</td>\n      <td>HANKSVILLE, UT US</td>\n      <td>38.37497</td>\n      <td>-110.71906</td>\n      <td>1304.5</td>\n      <td>2020-09-20</td>\n      <td>&lt;NA&gt;</td>\n      <td>&lt;NA&gt;</td>\n      <td>0.00</td>\n      <td>0.0</td>\n      <td>0.0</td>\n      <td>92</td>\n      <td>46</td>\n      <td>83</td>\n      <td>&lt;NA&gt;</td>\n      <td>&lt;NA&gt;</td>\n      <td>&lt;NA&gt;</td>\n      <td>&lt;NA&gt;</td>\n      <td>&lt;NA&gt;</td>\n      <td>&lt;NA&gt;</td>\n    </tr>\n    <tr>\n      <th>6844</th>\n      <td>USW00023170</td>\n      <td>HANKSVILLE, UT US</td>\n      <td>38.37497</td>\n      <td>-110.71906</td>\n      <td>1304.5</td>\n      <td>2020-09-21</td>\n      <td>&lt;NA&gt;</td>\n      <td>&lt;NA&gt;</td>\n      <td>0.00</td>\n      <td>0.0</td>\n      <td>0.0</td>\n      <td>92</td>\n      <td>47</td>\n      <td>84</td>\n      <td>&lt;NA&gt;</td>\n      <td>&lt;NA&gt;</td>\n      <td>&lt;NA&gt;</td>\n      <td>&lt;NA&gt;</td>\n      <td>&lt;NA&gt;</td>\n      <td>&lt;NA&gt;</td>\n    </tr>\n    <tr>\n      <th>6845</th>\n      <td>USW00023170</td>\n      <td>HANKSVILLE, UT US</td>\n      <td>38.37497</td>\n      <td>-110.71906</td>\n      <td>1304.5</td>\n      <td>2020-09-22</td>\n      <td>&lt;NA&gt;</td>\n      <td>&lt;NA&gt;</td>\n      <td>0.00</td>\n      <td>0.0</td>\n      <td>0.0</td>\n      <td>84</td>\n      <td>54</td>\n      <td>77</td>\n      <td>&lt;NA&gt;</td>\n      <td>&lt;NA&gt;</td>\n      <td>&lt;NA&gt;</td>\n      <td>&lt;NA&gt;</td>\n      <td>&lt;NA&gt;</td>\n      <td>&lt;NA&gt;</td>\n    </tr>\n    <tr>\n      <th>6846</th>\n      <td>USW00023170</td>\n      <td>HANKSVILLE, UT US</td>\n      <td>38.37497</td>\n      <td>-110.71906</td>\n      <td>1304.5</td>\n      <td>2020-09-23</td>\n      <td>&lt;NA&gt;</td>\n      <td>&lt;NA&gt;</td>\n      <td>0.00</td>\n      <td>0.0</td>\n      <td>0.0</td>\n      <td>91</td>\n      <td>47</td>\n      <td>87</td>\n      <td>&lt;NA&gt;</td>\n      <td>&lt;NA&gt;</td>\n      <td>&lt;NA&gt;</td>\n      <td>&lt;NA&gt;</td>\n      <td>&lt;NA&gt;</td>\n      <td>&lt;NA&gt;</td>\n    </tr>\n    <tr>\n      <th>6847</th>\n      <td>USW00023170</td>\n      <td>HANKSVILLE, UT US</td>\n      <td>38.37497</td>\n      <td>-110.71906</td>\n      <td>1304.5</td>\n      <td>2020-09-24</td>\n      <td>&lt;NA&gt;</td>\n      <td>&lt;NA&gt;</td>\n      <td>0.00</td>\n      <td>0.0</td>\n      <td>0.0</td>\n      <td>94</td>\n      <td>43</td>\n      <td>88</td>\n      <td>&lt;NA&gt;</td>\n      <td>&lt;NA&gt;</td>\n      <td>&lt;NA&gt;</td>\n      <td>&lt;NA&gt;</td>\n      <td>&lt;NA&gt;</td>\n      <td>&lt;NA&gt;</td>\n    </tr>\n  </tbody>\n</table>\n<p>6848 rows × 20 columns</p>\n</div>"
     },
     "execution_count": 13,
     "metadata": {},
     "output_type": "execute_result"
    }
   ],
   "source": [
    "raw_temp_data"
   ],
   "metadata": {
    "collapsed": false,
    "ExecuteTime": {
     "end_time": "2023-12-02T20:02:33.016186Z",
     "start_time": "2023-12-02T20:02:32.947541Z"
    }
   },
   "id": "1c5b893a9ad6b520"
  },
  {
   "cell_type": "markdown",
   "source": [
    "### Tweak Dataset"
   ],
   "metadata": {
    "collapsed": false
   },
   "id": "8e58fc3bf02d0cc4"
  },
  {
   "cell_type": "code",
   "execution_count": 69,
   "outputs": [],
   "source": [
    "river_df: pd.DataFrame = tweak_river(raw_data)"
   ],
   "metadata": {
    "collapsed": false,
    "ExecuteTime": {
     "end_time": "2023-12-02T20:25:38.804810Z",
     "start_time": "2023-12-02T20:25:38.235480Z"
    }
   },
   "id": "a90d1d976f9058d1"
  },
  {
   "cell_type": "code",
   "execution_count": 70,
   "outputs": [
    {
     "data": {
      "text/plain": "                        datetime    cfs  gage_height\n0      2001-05-07 01:00:00-06:00  71.00         <NA>\n1      2001-05-07 01:15:00-06:00  71.00         <NA>\n2      2001-05-07 01:30:00-06:00  71.00         <NA>\n3      2001-05-07 01:45:00-06:00  70.00         <NA>\n4      2001-05-07 02:00:00-06:00  70.00         <NA>\n...                          ...    ...          ...\n539300 2020-09-28 08:30:00-06:00   9.53         6.16\n539301 2020-09-28 08:45:00-06:00   9.20         6.15\n539302 2020-09-28 09:00:00-06:00   9.20         6.15\n539303 2020-09-28 09:15:00-06:00   9.20         6.15\n539304 2020-09-28 09:30:00-06:00   9.20         6.15\n\n[539305 rows x 3 columns]",
      "text/html": "<div>\n<style scoped>\n    .dataframe tbody tr th:only-of-type {\n        vertical-align: middle;\n    }\n\n    .dataframe tbody tr th {\n        vertical-align: top;\n    }\n\n    .dataframe thead th {\n        text-align: right;\n    }\n</style>\n<table border=\"1\" class=\"dataframe\">\n  <thead>\n    <tr style=\"text-align: right;\">\n      <th></th>\n      <th>datetime</th>\n      <th>cfs</th>\n      <th>gage_height</th>\n    </tr>\n  </thead>\n  <tbody>\n    <tr>\n      <th>0</th>\n      <td>2001-05-07 01:00:00-06:00</td>\n      <td>71.00</td>\n      <td>&lt;NA&gt;</td>\n    </tr>\n    <tr>\n      <th>1</th>\n      <td>2001-05-07 01:15:00-06:00</td>\n      <td>71.00</td>\n      <td>&lt;NA&gt;</td>\n    </tr>\n    <tr>\n      <th>2</th>\n      <td>2001-05-07 01:30:00-06:00</td>\n      <td>71.00</td>\n      <td>&lt;NA&gt;</td>\n    </tr>\n    <tr>\n      <th>3</th>\n      <td>2001-05-07 01:45:00-06:00</td>\n      <td>70.00</td>\n      <td>&lt;NA&gt;</td>\n    </tr>\n    <tr>\n      <th>4</th>\n      <td>2001-05-07 02:00:00-06:00</td>\n      <td>70.00</td>\n      <td>&lt;NA&gt;</td>\n    </tr>\n    <tr>\n      <th>...</th>\n      <td>...</td>\n      <td>...</td>\n      <td>...</td>\n    </tr>\n    <tr>\n      <th>539300</th>\n      <td>2020-09-28 08:30:00-06:00</td>\n      <td>9.53</td>\n      <td>6.16</td>\n    </tr>\n    <tr>\n      <th>539301</th>\n      <td>2020-09-28 08:45:00-06:00</td>\n      <td>9.20</td>\n      <td>6.15</td>\n    </tr>\n    <tr>\n      <th>539302</th>\n      <td>2020-09-28 09:00:00-06:00</td>\n      <td>9.20</td>\n      <td>6.15</td>\n    </tr>\n    <tr>\n      <th>539303</th>\n      <td>2020-09-28 09:15:00-06:00</td>\n      <td>9.20</td>\n      <td>6.15</td>\n    </tr>\n    <tr>\n      <th>539304</th>\n      <td>2020-09-28 09:30:00-06:00</td>\n      <td>9.20</td>\n      <td>6.15</td>\n    </tr>\n  </tbody>\n</table>\n<p>539305 rows × 3 columns</p>\n</div>"
     },
     "execution_count": 70,
     "metadata": {},
     "output_type": "execute_result"
    }
   ],
   "source": [
    "river_df"
   ],
   "metadata": {
    "collapsed": false,
    "ExecuteTime": {
     "end_time": "2023-12-02T20:25:39.461942Z",
     "start_time": "2023-12-02T20:25:39.435202Z"
    }
   },
   "id": "bce613718369b9f4"
  },
  {
   "cell_type": "code",
   "execution_count": 71,
   "outputs": [],
   "source": [
    "temp_df: pd.DataFrame = tweak_temp(raw_temp_data)"
   ],
   "metadata": {
    "collapsed": false,
    "ExecuteTime": {
     "end_time": "2023-12-02T20:25:40.768885Z",
     "start_time": "2023-12-02T20:25:40.725833Z"
    }
   },
   "id": "6ad15d1aba4ede44"
  },
  {
   "cell_type": "code",
   "execution_count": 72,
   "outputs": [
    {
     "data": {
      "text/plain": "                          DATE  PRCP  TMIN  TMAX  TOBS\n0    2000-01-01 00:00:00-07:00  0.02    21    43    28\n1    2000-01-02 00:00:00-07:00  0.03    24    39    24\n2    2000-01-03 00:00:00-07:00  0.00     7    39    18\n3    2000-01-04 00:00:00-07:00  0.00     5    39    25\n4    2000-01-05 00:00:00-07:00  0.00    10    44    22\n...                        ...   ...   ...   ...   ...\n6843 2020-09-20 00:00:00-06:00  0.00    46    92    83\n6844 2020-09-21 00:00:00-06:00  0.00    47    92    84\n6845 2020-09-22 00:00:00-06:00  0.00    54    84    77\n6846 2020-09-23 00:00:00-06:00  0.00    47    91    87\n6847 2020-09-24 00:00:00-06:00  0.00    43    94    88\n\n[6848 rows x 5 columns]",
      "text/html": "<div>\n<style scoped>\n    .dataframe tbody tr th:only-of-type {\n        vertical-align: middle;\n    }\n\n    .dataframe tbody tr th {\n        vertical-align: top;\n    }\n\n    .dataframe thead th {\n        text-align: right;\n    }\n</style>\n<table border=\"1\" class=\"dataframe\">\n  <thead>\n    <tr style=\"text-align: right;\">\n      <th></th>\n      <th>DATE</th>\n      <th>PRCP</th>\n      <th>TMIN</th>\n      <th>TMAX</th>\n      <th>TOBS</th>\n    </tr>\n  </thead>\n  <tbody>\n    <tr>\n      <th>0</th>\n      <td>2000-01-01 00:00:00-07:00</td>\n      <td>0.02</td>\n      <td>21</td>\n      <td>43</td>\n      <td>28</td>\n    </tr>\n    <tr>\n      <th>1</th>\n      <td>2000-01-02 00:00:00-07:00</td>\n      <td>0.03</td>\n      <td>24</td>\n      <td>39</td>\n      <td>24</td>\n    </tr>\n    <tr>\n      <th>2</th>\n      <td>2000-01-03 00:00:00-07:00</td>\n      <td>0.00</td>\n      <td>7</td>\n      <td>39</td>\n      <td>18</td>\n    </tr>\n    <tr>\n      <th>3</th>\n      <td>2000-01-04 00:00:00-07:00</td>\n      <td>0.00</td>\n      <td>5</td>\n      <td>39</td>\n      <td>25</td>\n    </tr>\n    <tr>\n      <th>4</th>\n      <td>2000-01-05 00:00:00-07:00</td>\n      <td>0.00</td>\n      <td>10</td>\n      <td>44</td>\n      <td>22</td>\n    </tr>\n    <tr>\n      <th>...</th>\n      <td>...</td>\n      <td>...</td>\n      <td>...</td>\n      <td>...</td>\n      <td>...</td>\n    </tr>\n    <tr>\n      <th>6843</th>\n      <td>2020-09-20 00:00:00-06:00</td>\n      <td>0.00</td>\n      <td>46</td>\n      <td>92</td>\n      <td>83</td>\n    </tr>\n    <tr>\n      <th>6844</th>\n      <td>2020-09-21 00:00:00-06:00</td>\n      <td>0.00</td>\n      <td>47</td>\n      <td>92</td>\n      <td>84</td>\n    </tr>\n    <tr>\n      <th>6845</th>\n      <td>2020-09-22 00:00:00-06:00</td>\n      <td>0.00</td>\n      <td>54</td>\n      <td>84</td>\n      <td>77</td>\n    </tr>\n    <tr>\n      <th>6846</th>\n      <td>2020-09-23 00:00:00-06:00</td>\n      <td>0.00</td>\n      <td>47</td>\n      <td>91</td>\n      <td>87</td>\n    </tr>\n    <tr>\n      <th>6847</th>\n      <td>2020-09-24 00:00:00-06:00</td>\n      <td>0.00</td>\n      <td>43</td>\n      <td>94</td>\n      <td>88</td>\n    </tr>\n  </tbody>\n</table>\n<p>6848 rows × 5 columns</p>\n</div>"
     },
     "execution_count": 72,
     "metadata": {},
     "output_type": "execute_result"
    }
   ],
   "source": [
    "temp_df"
   ],
   "metadata": {
    "collapsed": false,
    "ExecuteTime": {
     "end_time": "2023-12-02T20:25:41.721304Z",
     "start_time": "2023-12-02T20:25:41.689498Z"
    }
   },
   "id": "d41391e2a36e510f"
  },
  {
   "cell_type": "code",
   "execution_count": 73,
   "outputs": [],
   "source": [
    "day_river_df: pd.DataFrame = (river_df\n",
    "                              .groupby(pd.Grouper(key='datetime', freq='D'))\n",
    "                              .median(numeric_only=True)\n",
    "                              .merge(temp_df, left_index=True, right_on=\"DATE\", how=\"inner\",\n",
    "                                     validate=\"1:1\")\n",
    "                              )"
   ],
   "metadata": {
    "collapsed": false,
    "ExecuteTime": {
     "end_time": "2023-12-02T20:25:43.107901Z",
     "start_time": "2023-12-02T20:25:42.953790Z"
    }
   },
   "id": "9864c60b7f3b2255"
  },
  {
   "cell_type": "code",
   "execution_count": 74,
   "outputs": [
    {
     "data": {
      "text/plain": "        cfs  gage_height                      DATE  PRCP  TMIN  TMAX  TOBS\n492   71.50         <NA> 2001-05-07 00:00:00-06:00   0.0    41    82    55\n493   69.00         <NA> 2001-05-08 00:00:00-06:00   0.0    43    85    58\n494   63.50         <NA> 2001-05-09 00:00:00-06:00   0.0    36    92    64\n495   55.00         <NA> 2001-05-10 00:00:00-06:00   0.0    50    92    67\n496   55.00         <NA> 2001-05-11 00:00:00-06:00   0.0    46    87    60\n...     ...          ...                       ...   ...   ...   ...   ...\n6843   6.83         6.07 2020-09-20 00:00:00-06:00   0.0    46    92    83\n6844   6.83         6.07 2020-09-21 00:00:00-06:00   0.0    47    92    84\n6845   7.39         6.09 2020-09-22 00:00:00-06:00   0.0    54    84    77\n6846   7.97         6.11 2020-09-23 00:00:00-06:00   0.0    47    91    87\n6847   9.53         6.16 2020-09-24 00:00:00-06:00   0.0    43    94    88\n\n[6356 rows x 7 columns]",
      "text/html": "<div>\n<style scoped>\n    .dataframe tbody tr th:only-of-type {\n        vertical-align: middle;\n    }\n\n    .dataframe tbody tr th {\n        vertical-align: top;\n    }\n\n    .dataframe thead th {\n        text-align: right;\n    }\n</style>\n<table border=\"1\" class=\"dataframe\">\n  <thead>\n    <tr style=\"text-align: right;\">\n      <th></th>\n      <th>cfs</th>\n      <th>gage_height</th>\n      <th>DATE</th>\n      <th>PRCP</th>\n      <th>TMIN</th>\n      <th>TMAX</th>\n      <th>TOBS</th>\n    </tr>\n  </thead>\n  <tbody>\n    <tr>\n      <th>492</th>\n      <td>71.50</td>\n      <td>&lt;NA&gt;</td>\n      <td>2001-05-07 00:00:00-06:00</td>\n      <td>0.0</td>\n      <td>41</td>\n      <td>82</td>\n      <td>55</td>\n    </tr>\n    <tr>\n      <th>493</th>\n      <td>69.00</td>\n      <td>&lt;NA&gt;</td>\n      <td>2001-05-08 00:00:00-06:00</td>\n      <td>0.0</td>\n      <td>43</td>\n      <td>85</td>\n      <td>58</td>\n    </tr>\n    <tr>\n      <th>494</th>\n      <td>63.50</td>\n      <td>&lt;NA&gt;</td>\n      <td>2001-05-09 00:00:00-06:00</td>\n      <td>0.0</td>\n      <td>36</td>\n      <td>92</td>\n      <td>64</td>\n    </tr>\n    <tr>\n      <th>495</th>\n      <td>55.00</td>\n      <td>&lt;NA&gt;</td>\n      <td>2001-05-10 00:00:00-06:00</td>\n      <td>0.0</td>\n      <td>50</td>\n      <td>92</td>\n      <td>67</td>\n    </tr>\n    <tr>\n      <th>496</th>\n      <td>55.00</td>\n      <td>&lt;NA&gt;</td>\n      <td>2001-05-11 00:00:00-06:00</td>\n      <td>0.0</td>\n      <td>46</td>\n      <td>87</td>\n      <td>60</td>\n    </tr>\n    <tr>\n      <th>...</th>\n      <td>...</td>\n      <td>...</td>\n      <td>...</td>\n      <td>...</td>\n      <td>...</td>\n      <td>...</td>\n      <td>...</td>\n    </tr>\n    <tr>\n      <th>6843</th>\n      <td>6.83</td>\n      <td>6.07</td>\n      <td>2020-09-20 00:00:00-06:00</td>\n      <td>0.0</td>\n      <td>46</td>\n      <td>92</td>\n      <td>83</td>\n    </tr>\n    <tr>\n      <th>6844</th>\n      <td>6.83</td>\n      <td>6.07</td>\n      <td>2020-09-21 00:00:00-06:00</td>\n      <td>0.0</td>\n      <td>47</td>\n      <td>92</td>\n      <td>84</td>\n    </tr>\n    <tr>\n      <th>6845</th>\n      <td>7.39</td>\n      <td>6.09</td>\n      <td>2020-09-22 00:00:00-06:00</td>\n      <td>0.0</td>\n      <td>54</td>\n      <td>84</td>\n      <td>77</td>\n    </tr>\n    <tr>\n      <th>6846</th>\n      <td>7.97</td>\n      <td>6.11</td>\n      <td>2020-09-23 00:00:00-06:00</td>\n      <td>0.0</td>\n      <td>47</td>\n      <td>91</td>\n      <td>87</td>\n    </tr>\n    <tr>\n      <th>6847</th>\n      <td>9.53</td>\n      <td>6.16</td>\n      <td>2020-09-24 00:00:00-06:00</td>\n      <td>0.0</td>\n      <td>43</td>\n      <td>94</td>\n      <td>88</td>\n    </tr>\n  </tbody>\n</table>\n<p>6356 rows × 7 columns</p>\n</div>"
     },
     "execution_count": 74,
     "metadata": {},
     "output_type": "execute_result"
    }
   ],
   "source": [
    "day_river_df"
   ],
   "metadata": {
    "collapsed": false,
    "ExecuteTime": {
     "end_time": "2023-12-02T20:25:44.317245Z",
     "start_time": "2023-12-02T20:25:44.261381Z"
    }
   },
   "id": "d8c4067bbd141262"
  },
  {
   "cell_type": "markdown",
   "source": [
    "# EDA"
   ],
   "metadata": {
    "collapsed": false
   },
   "id": "6623db53efda3f7c"
  },
  {
   "cell_type": "code",
   "execution_count": 75,
   "outputs": [
    {
     "data": {
      "text/plain": "<Figure size 800x400 with 1 Axes>",
      "image/png": "[encoded data removed]"
     },
     "metadata": {},
     "output_type": "display_data"
    }
   ],
   "source": [
    "fig, ax = plt.subplots(figsize=(8, 4))\n",
    "(\n",
    "    day_river_df\n",
    "    .set_index(\"DATE\")\n",
    "    .cfs\n",
    "    .plot(ax=ax, title=\"Flow (cfs) for Dirty Devil\")\n",
    ")\n",
    "plt.show()"
   ],
   "metadata": {
    "collapsed": false,
    "ExecuteTime": {
     "end_time": "2023-12-02T20:25:46.384616Z",
     "start_time": "2023-12-02T20:25:46.092024Z"
    }
   },
   "id": "e74bac9210cb6180"
  },
  {
   "cell_type": "code",
   "execution_count": 76,
   "outputs": [
    {
     "data": {
      "text/plain": "<Figure size 800x400 with 1 Axes>",
      "image/png": "[encoded data removed]"
     },
     "metadata": {},
     "output_type": "display_data"
    }
   ],
   "source": [
    "fig, ax = plt.subplots(figsize=(8, 4))\n",
    "(day_river_df\n",
    ".set_index(\"DATE\")\n",
    " .query(\"cfs < 2000\")\n",
    " .cfs\n",
    " .plot(ax=ax, title=\"Flow (cfs) for Dirty Devil\")\n",
    " )\n",
    "plt.show()"
   ],
   "metadata": {
    "collapsed": false,
    "ExecuteTime": {
     "end_time": "2023-12-02T20:25:47.762551Z",
     "start_time": "2023-12-02T20:25:47.391020Z"
    }
   },
   "id": "5960c86be40476fe"
  },
  {
   "cell_type": "markdown",
   "source": [
    "# Dataset for modeling"
   ],
   "metadata": {
    "collapsed": false
   },
   "id": "35ee14b3f7761bda"
  },
  {
   "cell_type": "code",
   "execution_count": 132,
   "outputs": [],
   "source": [
    "pl: pipeline = pipeline.Pipeline([(\"tweak\", TweakDirtyTransformer())])"
   ],
   "metadata": {
    "collapsed": false,
    "ExecuteTime": {
     "end_time": "2023-12-02T20:57:59.639598Z",
     "start_time": "2023-12-02T20:57:59.616258Z"
    }
   },
   "id": "96ca8b150957759f"
  },
  {
   "cell_type": "code",
   "execution_count": 133,
   "outputs": [],
   "source": [
    "X: pd.DataFrame = day_river_df"
   ],
   "metadata": {
    "collapsed": false,
    "ExecuteTime": {
     "end_time": "2023-12-02T20:58:00.264858Z",
     "start_time": "2023-12-02T20:58:00.256419Z"
    }
   },
   "id": "2832bd560ba5206b"
  },
  {
   "cell_type": "code",
   "execution_count": 134,
   "outputs": [
    {
     "data": {
      "text/plain": "        cfs  gage_height                      DATE  PRCP  TMIN  TMAX  TOBS\n492   71.50         <NA> 2001-05-07 00:00:00-06:00   0.0    41    82    55\n493   69.00         <NA> 2001-05-08 00:00:00-06:00   0.0    43    85    58\n494   63.50         <NA> 2001-05-09 00:00:00-06:00   0.0    36    92    64\n495   55.00         <NA> 2001-05-10 00:00:00-06:00   0.0    50    92    67\n496   55.00         <NA> 2001-05-11 00:00:00-06:00   0.0    46    87    60\n...     ...          ...                       ...   ...   ...   ...   ...\n6843   6.83         6.07 2020-09-20 00:00:00-06:00   0.0    46    92    83\n6844   6.83         6.07 2020-09-21 00:00:00-06:00   0.0    47    92    84\n6845   7.39         6.09 2020-09-22 00:00:00-06:00   0.0    54    84    77\n6846   7.97         6.11 2020-09-23 00:00:00-06:00   0.0    47    91    87\n6847   9.53         6.16 2020-09-24 00:00:00-06:00   0.0    43    94    88\n\n[6356 rows x 7 columns]",
      "text/html": "<div>\n<style scoped>\n    .dataframe tbody tr th:only-of-type {\n        vertical-align: middle;\n    }\n\n    .dataframe tbody tr th {\n        vertical-align: top;\n    }\n\n    .dataframe thead th {\n        text-align: right;\n    }\n</style>\n<table border=\"1\" class=\"dataframe\">\n  <thead>\n    <tr style=\"text-align: right;\">\n      <th></th>\n      <th>cfs</th>\n      <th>gage_height</th>\n      <th>DATE</th>\n      <th>PRCP</th>\n      <th>TMIN</th>\n      <th>TMAX</th>\n      <th>TOBS</th>\n    </tr>\n  </thead>\n  <tbody>\n    <tr>\n      <th>492</th>\n      <td>71.50</td>\n      <td>&lt;NA&gt;</td>\n      <td>2001-05-07 00:00:00-06:00</td>\n      <td>0.0</td>\n      <td>41</td>\n      <td>82</td>\n      <td>55</td>\n    </tr>\n    <tr>\n      <th>493</th>\n      <td>69.00</td>\n      <td>&lt;NA&gt;</td>\n      <td>2001-05-08 00:00:00-06:00</td>\n      <td>0.0</td>\n      <td>43</td>\n      <td>85</td>\n      <td>58</td>\n    </tr>\n    <tr>\n      <th>494</th>\n      <td>63.50</td>\n      <td>&lt;NA&gt;</td>\n      <td>2001-05-09 00:00:00-06:00</td>\n      <td>0.0</td>\n      <td>36</td>\n      <td>92</td>\n      <td>64</td>\n    </tr>\n    <tr>\n      <th>495</th>\n      <td>55.00</td>\n      <td>&lt;NA&gt;</td>\n      <td>2001-05-10 00:00:00-06:00</td>\n      <td>0.0</td>\n      <td>50</td>\n      <td>92</td>\n      <td>67</td>\n    </tr>\n    <tr>\n      <th>496</th>\n      <td>55.00</td>\n      <td>&lt;NA&gt;</td>\n      <td>2001-05-11 00:00:00-06:00</td>\n      <td>0.0</td>\n      <td>46</td>\n      <td>87</td>\n      <td>60</td>\n    </tr>\n    <tr>\n      <th>...</th>\n      <td>...</td>\n      <td>...</td>\n      <td>...</td>\n      <td>...</td>\n      <td>...</td>\n      <td>...</td>\n      <td>...</td>\n    </tr>\n    <tr>\n      <th>6843</th>\n      <td>6.83</td>\n      <td>6.07</td>\n      <td>2020-09-20 00:00:00-06:00</td>\n      <td>0.0</td>\n      <td>46</td>\n      <td>92</td>\n      <td>83</td>\n    </tr>\n    <tr>\n      <th>6844</th>\n      <td>6.83</td>\n      <td>6.07</td>\n      <td>2020-09-21 00:00:00-06:00</td>\n      <td>0.0</td>\n      <td>47</td>\n      <td>92</td>\n      <td>84</td>\n    </tr>\n    <tr>\n      <th>6845</th>\n      <td>7.39</td>\n      <td>6.09</td>\n      <td>2020-09-22 00:00:00-06:00</td>\n      <td>0.0</td>\n      <td>54</td>\n      <td>84</td>\n      <td>77</td>\n    </tr>\n    <tr>\n      <th>6846</th>\n      <td>7.97</td>\n      <td>6.11</td>\n      <td>2020-09-23 00:00:00-06:00</td>\n      <td>0.0</td>\n      <td>47</td>\n      <td>91</td>\n      <td>87</td>\n    </tr>\n    <tr>\n      <th>6847</th>\n      <td>9.53</td>\n      <td>6.16</td>\n      <td>2020-09-24 00:00:00-06:00</td>\n      <td>0.0</td>\n      <td>43</td>\n      <td>94</td>\n      <td>88</td>\n    </tr>\n  </tbody>\n</table>\n<p>6356 rows × 7 columns</p>\n</div>"
     },
     "execution_count": 134,
     "metadata": {},
     "output_type": "execute_result"
    }
   ],
   "source": [
    "X"
   ],
   "metadata": {
    "collapsed": false,
    "ExecuteTime": {
     "end_time": "2023-12-02T20:58:00.934370Z",
     "start_time": "2023-12-02T20:58:00.909273Z"
    }
   },
   "id": "449b63036a7dfb44"
  },
  {
   "cell_type": "code",
   "execution_count": 135,
   "outputs": [],
   "source": [
    "y: pd.Series = day_river_df[\"cfs\"].shift(-7)"
   ],
   "metadata": {
    "collapsed": false,
    "ExecuteTime": {
     "end_time": "2023-12-02T20:58:01.915229Z",
     "start_time": "2023-12-02T20:58:01.893433Z"
    }
   },
   "id": "92e7000a00087992"
  },
  {
   "cell_type": "code",
   "execution_count": 136,
   "outputs": [
    {
     "data": {
      "text/plain": "492     45.0\n493     55.0\n494     51.5\n495     53.0\n496     49.0\n        ... \n6843    <NA>\n6844    <NA>\n6845    <NA>\n6846    <NA>\n6847    <NA>\nName: cfs, Length: 6356, dtype: double[pyarrow]"
     },
     "execution_count": 136,
     "metadata": {},
     "output_type": "execute_result"
    }
   ],
   "source": [
    "y"
   ],
   "metadata": {
    "collapsed": false,
    "ExecuteTime": {
     "end_time": "2023-12-02T20:58:02.629927Z",
     "start_time": "2023-12-02T20:58:02.610478Z"
    }
   },
   "id": "502149d8641ea298"
  },
  {
   "cell_type": "markdown",
   "source": [
    "*drop missing y values*"
   ],
   "metadata": {
    "collapsed": false
   },
   "id": "2f44b28e823c72f7"
  },
  {
   "cell_type": "code",
   "execution_count": 137,
   "outputs": [],
   "source": [
    "y: pd.Series = y[~y.isna()]"
   ],
   "metadata": {
    "collapsed": false,
    "ExecuteTime": {
     "end_time": "2023-12-02T20:58:04.148945Z",
     "start_time": "2023-12-02T20:58:04.138475Z"
    }
   },
   "id": "687f4b6e01bbc18e"
  },
  {
   "cell_type": "code",
   "execution_count": 138,
   "outputs": [],
   "source": [
    "X: pd.DataFrame = X.loc[y.index]"
   ],
   "metadata": {
    "collapsed": false,
    "ExecuteTime": {
     "end_time": "2023-12-02T20:58:04.861441Z",
     "start_time": "2023-12-02T20:58:04.837208Z"
    }
   },
   "id": "f5004fa367612578"
  },
  {
   "cell_type": "code",
   "execution_count": 139,
   "outputs": [],
   "source": [
    "X_train, X_test, y_train, y_test = model_selection.train_test_split(X, y, random_state=42)"
   ],
   "metadata": {
    "collapsed": false,
    "ExecuteTime": {
     "end_time": "2023-12-02T20:58:05.606776Z",
     "start_time": "2023-12-02T20:58:05.579482Z"
    }
   },
   "id": "20bd738fd29198be"
  },
  {
   "cell_type": "code",
   "execution_count": 140,
   "outputs": [
    {
     "data": {
      "text/plain": "        cfs  gage_height                      DATE  PRCP  TMIN  TMAX  TOBS\n3307   97.8         3.92 2009-02-17 00:00:00-07:00  0.00    20    54    38\n5460   78.5         5.31 2016-12-05 00:00:00-07:00  0.00    14    49    43\n557    <NA>         <NA> 2001-07-11 00:00:00-06:00  0.00    60    93    72\n6100    7.7        5.855 2018-09-08 00:00:00-06:00  0.00    50    94  <NA>\n6453   3.76         5.92 2019-08-27 00:00:00-06:00  0.00    49   102    97\n...     ...          ...                       ...   ...   ...   ...   ...\n6624  101.0         6.76 2020-02-14 00:00:00-07:00  0.00    14    59    46\n1481  128.0         <NA> 2004-01-21 00:00:00-07:00  0.00    13    44    21\n5286   13.1         4.96 2016-06-14 00:00:00-06:00  0.00    47    92    91\n5970   38.1         6.41 2018-05-01 00:00:00-06:00  0.23    46    65    56\n2484  121.0         <NA> 2006-11-17 00:00:00-07:00  0.00    20    55    32\n\n[3481 rows x 7 columns]",
      "text/html": "<div>\n<style scoped>\n    .dataframe tbody tr th:only-of-type {\n        vertical-align: middle;\n    }\n\n    .dataframe tbody tr th {\n        vertical-align: top;\n    }\n\n    .dataframe thead th {\n        text-align: right;\n    }\n</style>\n<table border=\"1\" class=\"dataframe\">\n  <thead>\n    <tr style=\"text-align: right;\">\n      <th></th>\n      <th>cfs</th>\n      <th>gage_height</th>\n      <th>DATE</th>\n      <th>PRCP</th>\n      <th>TMIN</th>\n      <th>TMAX</th>\n      <th>TOBS</th>\n    </tr>\n  </thead>\n  <tbody>\n    <tr>\n      <th>3307</th>\n      <td>97.8</td>\n      <td>3.92</td>\n      <td>2009-02-17 00:00:00-07:00</td>\n      <td>0.00</td>\n      <td>20</td>\n      <td>54</td>\n      <td>38</td>\n    </tr>\n    <tr>\n      <th>5460</th>\n      <td>78.5</td>\n      <td>5.31</td>\n      <td>2016-12-05 00:00:00-07:00</td>\n      <td>0.00</td>\n      <td>14</td>\n      <td>49</td>\n      <td>43</td>\n    </tr>\n    <tr>\n      <th>557</th>\n      <td>&lt;NA&gt;</td>\n      <td>&lt;NA&gt;</td>\n      <td>2001-07-11 00:00:00-06:00</td>\n      <td>0.00</td>\n      <td>60</td>\n      <td>93</td>\n      <td>72</td>\n    </tr>\n    <tr>\n      <th>6100</th>\n      <td>7.7</td>\n      <td>5.855</td>\n      <td>2018-09-08 00:00:00-06:00</td>\n      <td>0.00</td>\n      <td>50</td>\n      <td>94</td>\n      <td>&lt;NA&gt;</td>\n    </tr>\n    <tr>\n      <th>6453</th>\n      <td>3.76</td>\n      <td>5.92</td>\n      <td>2019-08-27 00:00:00-06:00</td>\n      <td>0.00</td>\n      <td>49</td>\n      <td>102</td>\n      <td>97</td>\n    </tr>\n    <tr>\n      <th>...</th>\n      <td>...</td>\n      <td>...</td>\n      <td>...</td>\n      <td>...</td>\n      <td>...</td>\n      <td>...</td>\n      <td>...</td>\n    </tr>\n    <tr>\n      <th>6624</th>\n      <td>101.0</td>\n      <td>6.76</td>\n      <td>2020-02-14 00:00:00-07:00</td>\n      <td>0.00</td>\n      <td>14</td>\n      <td>59</td>\n      <td>46</td>\n    </tr>\n    <tr>\n      <th>1481</th>\n      <td>128.0</td>\n      <td>&lt;NA&gt;</td>\n      <td>2004-01-21 00:00:00-07:00</td>\n      <td>0.00</td>\n      <td>13</td>\n      <td>44</td>\n      <td>21</td>\n    </tr>\n    <tr>\n      <th>5286</th>\n      <td>13.1</td>\n      <td>4.96</td>\n      <td>2016-06-14 00:00:00-06:00</td>\n      <td>0.00</td>\n      <td>47</td>\n      <td>92</td>\n      <td>91</td>\n    </tr>\n    <tr>\n      <th>5970</th>\n      <td>38.1</td>\n      <td>6.41</td>\n      <td>2018-05-01 00:00:00-06:00</td>\n      <td>0.23</td>\n      <td>46</td>\n      <td>65</td>\n      <td>56</td>\n    </tr>\n    <tr>\n      <th>2484</th>\n      <td>121.0</td>\n      <td>&lt;NA&gt;</td>\n      <td>2006-11-17 00:00:00-07:00</td>\n      <td>0.00</td>\n      <td>20</td>\n      <td>55</td>\n      <td>32</td>\n    </tr>\n  </tbody>\n</table>\n<p>3481 rows × 7 columns</p>\n</div>"
     },
     "execution_count": 140,
     "metadata": {},
     "output_type": "execute_result"
    }
   ],
   "source": [
    "X_train"
   ],
   "metadata": {
    "collapsed": false,
    "ExecuteTime": {
     "end_time": "2023-12-02T20:58:06.397037Z",
     "start_time": "2023-12-02T20:58:06.350441Z"
    }
   },
   "id": "9427f69ca5a64c23"
  },
  {
   "cell_type": "code",
   "execution_count": 141,
   "outputs": [],
   "source": [
    "X_train: Any = pl.fit_transform(X_train)"
   ],
   "metadata": {
    "collapsed": false,
    "ExecuteTime": {
     "end_time": "2023-12-02T20:58:07.499442Z",
     "start_time": "2023-12-02T20:58:07.461257Z"
    }
   },
   "id": "28583f68d7b3f272"
  },
  {
   "cell_type": "code",
   "execution_count": 142,
   "outputs": [],
   "source": [
    "X_test: Any = pl.transform(X_test)"
   ],
   "metadata": {
    "collapsed": false,
    "ExecuteTime": {
     "end_time": "2023-12-02T20:58:08.379931Z",
     "start_time": "2023-12-02T20:58:08.345174Z"
    }
   },
   "id": "3d41246c031b0746"
  },
  {
   "cell_type": "markdown",
   "source": [
    "*refilter y*"
   ],
   "metadata": {
    "collapsed": false
   },
   "id": "853f8a8b652de885"
  },
  {
   "cell_type": "code",
   "execution_count": 143,
   "outputs": [],
   "source": [
    "y_train: pd.Series = y_train.loc[X_train.index]\n",
    "y_test: pd.Series = y_test.loc[X_test.index]"
   ],
   "metadata": {
    "collapsed": false,
    "ExecuteTime": {
     "end_time": "2023-12-02T20:58:10.096627Z",
     "start_time": "2023-12-02T20:58:10.077899Z"
    }
   },
   "id": "7aabd13bc5a5b249"
  },
  {
   "cell_type": "code",
   "execution_count": 144,
   "outputs": [
    {
     "data": {
      "text/plain": "3307    107.0\n2595    186.0\n5937     56.1\n3034     61.9\n2586    114.0\n        ...  \n4466     80.9\n2232    127.0\n6624    131.0\n1481    112.0\n5970     38.4\nName: cfs, Length: 1558, dtype: double[pyarrow]"
     },
     "execution_count": 144,
     "metadata": {},
     "output_type": "execute_result"
    }
   ],
   "source": [
    "y_train"
   ],
   "metadata": {
    "collapsed": false,
    "ExecuteTime": {
     "end_time": "2023-12-02T20:58:11.042275Z",
     "start_time": "2023-12-02T20:58:11.018147Z"
    }
   },
   "id": "ae2c2865f5a8949"
  },
  {
   "cell_type": "code",
   "execution_count": 145,
   "outputs": [],
   "source": [
    "X: pd.DataFrame = pd.concat([X_train, X_test], axis=\"index\")\n",
    "y: pd.Series = pd.concat([y_train, y_test], axis=\"index\")"
   ],
   "metadata": {
    "collapsed": false,
    "ExecuteTime": {
     "end_time": "2023-12-02T20:58:11.834950Z",
     "start_time": "2023-12-02T20:58:11.820003Z"
    }
   },
   "id": "9b1b046420cb039e"
  },
  {
   "cell_type": "markdown",
   "source": [
    "### Linear Regression"
   ],
   "metadata": {
    "collapsed": false
   },
   "id": "d5f6cf1547276aa"
  },
  {
   "cell_type": "code",
   "execution_count": 146,
   "outputs": [],
   "source": [
    "lr = linear_model.LinearRegression()"
   ],
   "metadata": {
    "collapsed": false,
    "ExecuteTime": {
     "end_time": "2023-12-02T20:58:13.654738Z",
     "start_time": "2023-12-02T20:58:13.634486Z"
    }
   },
   "id": "2ea21657d45c97a6"
  },
  {
   "cell_type": "code",
   "execution_count": 147,
   "outputs": [
    {
     "data": {
      "text/plain": "LinearRegression()",
      "text/html": "<style>#sk-container-id-6 {color: black;}#sk-container-id-6 pre{padding: 0;}#sk-container-id-6 div.sk-toggleable {background-color: white;}#sk-container-id-6 label.sk-toggleable__label {cursor: pointer;display: block;width: 100%;margin-bottom: 0;padding: 0.3em;box-sizing: border-box;text-align: center;}#sk-container-id-6 label.sk-toggleable__label-arrow:before {content: \"▸\";float: left;margin-right: 0.25em;color: #696969;}#sk-container-id-6 label.sk-toggleable__label-arrow:hover:before {color: black;}#sk-container-id-6 div.sk-estimator:hover label.sk-toggleable__label-arrow:before {color: black;}#sk-container-id-6 div.sk-toggleable__content {max-height: 0;max-width: 0;overflow: hidden;text-align: left;background-color: #f0f8ff;}#sk-container-id-6 div.sk-toggleable__content pre {margin: 0.2em;color: black;border-radius: 0.25em;background-color: #f0f8ff;}#sk-container-id-6 input.sk-toggleable__control:checked~div.sk-toggleable__content {max-height: 200px;max-width: 100%;overflow: auto;}#sk-container-id-6 input.sk-toggleable__control:checked~label.sk-toggleable__label-arrow:before {content: \"▾\";}#sk-container-id-6 div.sk-estimator input.sk-toggleable__control:checked~label.sk-toggleable__label {background-color: #d4ebff;}#sk-container-id-6 div.sk-label input.sk-toggleable__control:checked~label.sk-toggleable__label {background-color: #d4ebff;}#sk-container-id-6 input.sk-hidden--visually {border: 0;clip: rect(1px 1px 1px 1px);clip: rect(1px, 1px, 1px, 1px);height: 1px;margin: -1px;overflow: hidden;padding: 0;position: absolute;width: 1px;}#sk-container-id-6 div.sk-estimator {font-family: monospace;background-color: #f0f8ff;border: 1px dotted black;border-radius: 0.25em;box-sizing: border-box;margin-bottom: 0.5em;}#sk-container-id-6 div.sk-estimator:hover {background-color: #d4ebff;}#sk-container-id-6 div.sk-parallel-item::after {content: \"\";width: 100%;border-bottom: 1px solid gray;flex-grow: 1;}#sk-container-id-6 div.sk-label:hover label.sk-toggleable__label {background-color: #d4ebff;}#sk-container-id-6 div.sk-serial::before {content: \"\";position: absolute;border-left: 1px solid gray;box-sizing: border-box;top: 0;bottom: 0;left: 50%;z-index: 0;}#sk-container-id-6 div.sk-serial {display: flex;flex-direction: column;align-items: center;background-color: white;padding-right: 0.2em;padding-left: 0.2em;position: relative;}#sk-container-id-6 div.sk-item {position: relative;z-index: 1;}#sk-container-id-6 div.sk-parallel {display: flex;align-items: stretch;justify-content: center;background-color: white;position: relative;}#sk-container-id-6 div.sk-item::before, #sk-container-id-6 div.sk-parallel-item::before {content: \"\";position: absolute;border-left: 1px solid gray;box-sizing: border-box;top: 0;bottom: 0;left: 50%;z-index: -1;}#sk-container-id-6 div.sk-parallel-item {display: flex;flex-direction: column;z-index: 1;position: relative;background-color: white;}#sk-container-id-6 div.sk-parallel-item:first-child::after {align-self: flex-end;width: 50%;}#sk-container-id-6 div.sk-parallel-item:last-child::after {align-self: flex-start;width: 50%;}#sk-container-id-6 div.sk-parallel-item:only-child::after {width: 0;}#sk-container-id-6 div.sk-dashed-wrapped {border: 1px dashed gray;margin: 0 0.4em 0.5em 0.4em;box-sizing: border-box;padding-bottom: 0.4em;background-color: white;}#sk-container-id-6 div.sk-label label {font-family: monospace;font-weight: bold;display: inline-block;line-height: 1.2em;}#sk-container-id-6 div.sk-label-container {text-align: center;}#sk-container-id-6 div.sk-container {/* jupyter's `normalize.less` sets `[hidden] { display: none; }` but bootstrap.min.css set `[hidden] { display: none !important; }` so we also need the `!important` here to be able to override the default hidden behavior on the sphinx rendered scikit-learn.org. See: https://github.com/scikit-learn/scikit-learn/issues/21755 */display: inline-block !important;position: relative;}#sk-container-id-6 div.sk-text-repr-fallback {display: none;}</style><div id=\"sk-container-id-6\" class=\"sk-top-container\"><div class=\"sk-text-repr-fallback\"><pre>LinearRegression()</pre><b>In a Jupyter environment, please rerun this cell to show the HTML representation or trust the notebook. <br />On GitHub, the HTML representation is unable to render, please try loading this page with nbviewer.org.</b></div><div class=\"sk-container\" hidden><div class=\"sk-item\"><div class=\"sk-estimator sk-toggleable\"><input class=\"sk-toggleable__control sk-hidden--visually\" id=\"sk-estimator-id-5\" type=\"checkbox\" checked><label for=\"sk-estimator-id-5\" class=\"sk-toggleable__label sk-toggleable__label-arrow\">LinearRegression</label><div class=\"sk-toggleable__content\"><pre>LinearRegression()</pre></div></div></div></div></div>"
     },
     "execution_count": 147,
     "metadata": {},
     "output_type": "execute_result"
    }
   ],
   "source": [
    "lr.fit(X_train.fillna(0), y_train)"
   ],
   "metadata": {
    "collapsed": false,
    "ExecuteTime": {
     "end_time": "2023-12-02T20:58:14.874608Z",
     "start_time": "2023-12-02T20:58:14.832117Z"
    }
   },
   "id": "afc82a261efd4b33"
  },
  {
   "cell_type": "code",
   "execution_count": 148,
   "outputs": [
    {
     "data": {
      "text/plain": "0.19320188521862858"
     },
     "execution_count": 148,
     "metadata": {},
     "output_type": "execute_result"
    }
   ],
   "source": [
    "lr.score(X_test.fillna(0), y_test)"
   ],
   "metadata": {
    "collapsed": false,
    "ExecuteTime": {
     "end_time": "2023-12-02T20:58:16.201984Z",
     "start_time": "2023-12-02T20:58:16.160434Z"
    }
   },
   "id": "68c8720b4be97336"
  },
  {
   "cell_type": "markdown",
   "source": [
    "### Decision Tree"
   ],
   "metadata": {
    "collapsed": false
   },
   "id": "a80df6bef68319e6"
  },
  {
   "cell_type": "code",
   "execution_count": 149,
   "outputs": [],
   "source": [
    "dt = tree.DecisionTreeRegressor(max_depth=3)"
   ],
   "metadata": {
    "collapsed": false,
    "ExecuteTime": {
     "end_time": "2023-12-02T20:58:18.106292Z",
     "start_time": "2023-12-02T20:58:18.083638Z"
    }
   },
   "id": "1eb4cbef6c99718d"
  },
  {
   "cell_type": "code",
   "execution_count": 150,
   "outputs": [
    {
     "data": {
      "text/plain": "DecisionTreeRegressor(max_depth=3)",
      "text/html": "<style>#sk-container-id-7 {color: black;}#sk-container-id-7 pre{padding: 0;}#sk-container-id-7 div.sk-toggleable {background-color: white;}#sk-container-id-7 label.sk-toggleable__label {cursor: pointer;display: block;width: 100%;margin-bottom: 0;padding: 0.3em;box-sizing: border-box;text-align: center;}#sk-container-id-7 label.sk-toggleable__label-arrow:before {content: \"▸\";float: left;margin-right: 0.25em;color: #696969;}#sk-container-id-7 label.sk-toggleable__label-arrow:hover:before {color: black;}#sk-container-id-7 div.sk-estimator:hover label.sk-toggleable__label-arrow:before {color: black;}#sk-container-id-7 div.sk-toggleable__content {max-height: 0;max-width: 0;overflow: hidden;text-align: left;background-color: #f0f8ff;}#sk-container-id-7 div.sk-toggleable__content pre {margin: 0.2em;color: black;border-radius: 0.25em;background-color: #f0f8ff;}#sk-container-id-7 input.sk-toggleable__control:checked~div.sk-toggleable__content {max-height: 200px;max-width: 100%;overflow: auto;}#sk-container-id-7 input.sk-toggleable__control:checked~label.sk-toggleable__label-arrow:before {content: \"▾\";}#sk-container-id-7 div.sk-estimator input.sk-toggleable__control:checked~label.sk-toggleable__label {background-color: #d4ebff;}#sk-container-id-7 div.sk-label input.sk-toggleable__control:checked~label.sk-toggleable__label {background-color: #d4ebff;}#sk-container-id-7 input.sk-hidden--visually {border: 0;clip: rect(1px 1px 1px 1px);clip: rect(1px, 1px, 1px, 1px);height: 1px;margin: -1px;overflow: hidden;padding: 0;position: absolute;width: 1px;}#sk-container-id-7 div.sk-estimator {font-family: monospace;background-color: #f0f8ff;border: 1px dotted black;border-radius: 0.25em;box-sizing: border-box;margin-bottom: 0.5em;}#sk-container-id-7 div.sk-estimator:hover {background-color: #d4ebff;}#sk-container-id-7 div.sk-parallel-item::after {content: \"\";width: 100%;border-bottom: 1px solid gray;flex-grow: 1;}#sk-container-id-7 div.sk-label:hover label.sk-toggleable__label {background-color: #d4ebff;}#sk-container-id-7 div.sk-serial::before {content: \"\";position: absolute;border-left: 1px solid gray;box-sizing: border-box;top: 0;bottom: 0;left: 50%;z-index: 0;}#sk-container-id-7 div.sk-serial {display: flex;flex-direction: column;align-items: center;background-color: white;padding-right: 0.2em;padding-left: 0.2em;position: relative;}#sk-container-id-7 div.sk-item {position: relative;z-index: 1;}#sk-container-id-7 div.sk-parallel {display: flex;align-items: stretch;justify-content: center;background-color: white;position: relative;}#sk-container-id-7 div.sk-item::before, #sk-container-id-7 div.sk-parallel-item::before {content: \"\";position: absolute;border-left: 1px solid gray;box-sizing: border-box;top: 0;bottom: 0;left: 50%;z-index: -1;}#sk-container-id-7 div.sk-parallel-item {display: flex;flex-direction: column;z-index: 1;position: relative;background-color: white;}#sk-container-id-7 div.sk-parallel-item:first-child::after {align-self: flex-end;width: 50%;}#sk-container-id-7 div.sk-parallel-item:last-child::after {align-self: flex-start;width: 50%;}#sk-container-id-7 div.sk-parallel-item:only-child::after {width: 0;}#sk-container-id-7 div.sk-dashed-wrapped {border: 1px dashed gray;margin: 0 0.4em 0.5em 0.4em;box-sizing: border-box;padding-bottom: 0.4em;background-color: white;}#sk-container-id-7 div.sk-label label {font-family: monospace;font-weight: bold;display: inline-block;line-height: 1.2em;}#sk-container-id-7 div.sk-label-container {text-align: center;}#sk-container-id-7 div.sk-container {/* jupyter's `normalize.less` sets `[hidden] { display: none; }` but bootstrap.min.css set `[hidden] { display: none !important; }` so we also need the `!important` here to be able to override the default hidden behavior on the sphinx rendered scikit-learn.org. See: https://github.com/scikit-learn/scikit-learn/issues/21755 */display: inline-block !important;position: relative;}#sk-container-id-7 div.sk-text-repr-fallback {display: none;}</style><div id=\"sk-container-id-7\" class=\"sk-top-container\"><div class=\"sk-text-repr-fallback\"><pre>DecisionTreeRegressor(max_depth=3)</pre><b>In a Jupyter environment, please rerun this cell to show the HTML representation or trust the notebook. <br />On GitHub, the HTML representation is unable to render, please try loading this page with nbviewer.org.</b></div><div class=\"sk-container\" hidden><div class=\"sk-item\"><div class=\"sk-estimator sk-toggleable\"><input class=\"sk-toggleable__control sk-hidden--visually\" id=\"sk-estimator-id-6\" type=\"checkbox\" checked><label for=\"sk-estimator-id-6\" class=\"sk-toggleable__label sk-toggleable__label-arrow\">DecisionTreeRegressor</label><div class=\"sk-toggleable__content\"><pre>DecisionTreeRegressor(max_depth=3)</pre></div></div></div></div></div>"
     },
     "execution_count": 150,
     "metadata": {},
     "output_type": "execute_result"
    }
   ],
   "source": [
    "dt.fit(X_train.fillna(0), y_train)"
   ],
   "metadata": {
    "collapsed": false,
    "ExecuteTime": {
     "end_time": "2023-12-02T20:58:18.966867Z",
     "start_time": "2023-12-02T20:58:18.929757Z"
    }
   },
   "id": "8f22144484c5cfe0"
  },
  {
   "cell_type": "code",
   "execution_count": 151,
   "outputs": [
    {
     "data": {
      "text/plain": "-1.0764198713366064"
     },
     "execution_count": 151,
     "metadata": {},
     "output_type": "execute_result"
    }
   ],
   "source": [
    "dt.score(X_test.fillna(0), y_test)"
   ],
   "metadata": {
    "collapsed": false,
    "ExecuteTime": {
     "end_time": "2023-12-02T20:58:20.161005Z",
     "start_time": "2023-12-02T20:58:20.144962Z"
    }
   },
   "id": "9c40de948beeabc4"
  },
  {
   "cell_type": "markdown",
   "source": [
    "### XG Model"
   ],
   "metadata": {
    "collapsed": false
   },
   "id": "6a4ae739818b4f7e"
  },
  {
   "cell_type": "code",
   "execution_count": 152,
   "outputs": [],
   "source": [
    "xg = xgb.XGBRegressor(early_stopping_rounds=10)"
   ],
   "metadata": {
    "collapsed": false,
    "ExecuteTime": {
     "end_time": "2023-12-02T20:58:22.604656Z",
     "start_time": "2023-12-02T20:58:22.579340Z"
    }
   },
   "id": "d9c20a32b725b016"
  },
  {
   "cell_type": "code",
   "execution_count": 153,
   "outputs": [],
   "source": [
    "evaluation = [(X_train, y_train), (X_test, y_test)]"
   ],
   "metadata": {
    "collapsed": false,
    "ExecuteTime": {
     "end_time": "2023-12-02T20:58:24.058996Z",
     "start_time": "2023-12-02T20:58:24.035803Z"
    }
   },
   "id": "ec0b77d8e52aaef9"
  },
  {
   "cell_type": "code",
   "execution_count": 154,
   "outputs": [
    {
     "name": "stdout",
     "output_type": "stream",
     "text": [
      "[0]\tvalidation_0-rmse:94.22152\tvalidation_1-rmse:83.68270\n",
      "[1]\tvalidation_0-rmse:73.30294\tvalidation_1-rmse:66.67974\n",
      "[2]\tvalidation_0-rmse:58.75377\tvalidation_1-rmse:55.59619\n",
      "[3]\tvalidation_0-rmse:48.54623\tvalidation_1-rmse:49.31067\n",
      "[4]\tvalidation_0-rmse:41.19431\tvalidation_1-rmse:47.96032\n",
      "[5]\tvalidation_0-rmse:35.71972\tvalidation_1-rmse:48.39448\n",
      "[6]\tvalidation_0-rmse:31.85567\tvalidation_1-rmse:48.31734\n",
      "[7]\tvalidation_0-rmse:29.24241\tvalidation_1-rmse:49.01986\n",
      "[8]\tvalidation_0-rmse:27.29770\tvalidation_1-rmse:48.73836\n",
      "[9]\tvalidation_0-rmse:26.03929\tvalidation_1-rmse:49.11177\n",
      "[10]\tvalidation_0-rmse:24.83452\tvalidation_1-rmse:49.59899\n",
      "[11]\tvalidation_0-rmse:23.67011\tvalidation_1-rmse:49.81794\n",
      "[12]\tvalidation_0-rmse:22.92221\tvalidation_1-rmse:49.88742\n",
      "[13]\tvalidation_0-rmse:22.48505\tvalidation_1-rmse:50.00398\n"
     ]
    },
    {
     "name": "stderr",
     "output_type": "stream",
     "text": [
      "/Users/everreyesruiz/mambaforge/envs/ml/lib/python3.11/site-packages/xgboost/data.py:312: FutureWarning: is_sparse is deprecated and will be removed in a future version. Check `isinstance(dtype, pd.SparseDtype)` instead.\n",
      "  if is_sparse(dtype):\n",
      "/Users/everreyesruiz/mambaforge/envs/ml/lib/python3.11/site-packages/xgboost/data.py:314: FutureWarning: is_categorical_dtype is deprecated and will be removed in a future version. Use isinstance(dtype, CategoricalDtype) instead\n",
      "  elif is_categorical_dtype(dtype) and enable_categorical:\n",
      "/Users/everreyesruiz/mambaforge/envs/ml/lib/python3.11/site-packages/xgboost/data.py:345: FutureWarning: is_categorical_dtype is deprecated and will be removed in a future version. Use isinstance(dtype, CategoricalDtype) instead\n",
      "  if is_categorical_dtype(dtype)\n",
      "/Users/everreyesruiz/mambaforge/envs/ml/lib/python3.11/site-packages/xgboost/data.py:336: FutureWarning: is_categorical_dtype is deprecated and will be removed in a future version. Use isinstance(dtype, CategoricalDtype) instead\n",
      "  return is_int or is_bool or is_float or is_categorical_dtype(dtype)\n",
      "/Users/everreyesruiz/mambaforge/envs/ml/lib/python3.11/site-packages/xgboost/data.py:440: FutureWarning: is_sparse is deprecated and will be removed in a future version. Check `isinstance(dtype, pd.SparseDtype)` instead.\n",
      "  if is_sparse(data):\n",
      "/Users/everreyesruiz/mambaforge/envs/ml/lib/python3.11/site-packages/xgboost/data.py:312: FutureWarning: is_sparse is deprecated and will be removed in a future version. Check `isinstance(dtype, pd.SparseDtype)` instead.\n",
      "  if is_sparse(dtype):\n",
      "/Users/everreyesruiz/mambaforge/envs/ml/lib/python3.11/site-packages/xgboost/data.py:314: FutureWarning: is_categorical_dtype is deprecated and will be removed in a future version. Use isinstance(dtype, CategoricalDtype) instead\n",
      "  elif is_categorical_dtype(dtype) and enable_categorical:\n",
      "/Users/everreyesruiz/mambaforge/envs/ml/lib/python3.11/site-packages/xgboost/data.py:345: FutureWarning: is_categorical_dtype is deprecated and will be removed in a future version. Use isinstance(dtype, CategoricalDtype) instead\n",
      "  if is_categorical_dtype(dtype)\n",
      "/Users/everreyesruiz/mambaforge/envs/ml/lib/python3.11/site-packages/xgboost/data.py:336: FutureWarning: is_categorical_dtype is deprecated and will be removed in a future version. Use isinstance(dtype, CategoricalDtype) instead\n",
      "  return is_int or is_bool or is_float or is_categorical_dtype(dtype)\n",
      "/Users/everreyesruiz/mambaforge/envs/ml/lib/python3.11/site-packages/xgboost/data.py:440: FutureWarning: is_sparse is deprecated and will be removed in a future version. Check `isinstance(dtype, pd.SparseDtype)` instead.\n",
      "  if is_sparse(data):\n"
     ]
    },
    {
     "data": {
      "text/plain": "XGBRegressor(base_score=None, booster=None, callbacks=None,\n             colsample_bylevel=None, colsample_bynode=None,\n             colsample_bytree=None, early_stopping_rounds=10,\n             enable_categorical=False, eval_metric=None, feature_types=None,\n             gamma=None, gpu_id=None, grow_policy=None, importance_type=None,\n             interaction_constraints=None, learning_rate=None, max_bin=None,\n             max_cat_threshold=None, max_cat_to_onehot=None,\n             max_delta_step=None, max_depth=None, max_leaves=None,\n             min_child_weight=None, missing=nan, monotone_constraints=None,\n             n_estimators=100, n_jobs=None, num_parallel_tree=None,\n             predictor=None, random_state=None, ...)",
      "text/html": "<style>#sk-container-id-8 {color: black;}#sk-container-id-8 pre{padding: 0;}#sk-container-id-8 div.sk-toggleable {background-color: white;}#sk-container-id-8 label.sk-toggleable__label {cursor: pointer;display: block;width: 100%;margin-bottom: 0;padding: 0.3em;box-sizing: border-box;text-align: center;}#sk-container-id-8 label.sk-toggleable__label-arrow:before {content: \"▸\";float: left;margin-right: 0.25em;color: #696969;}#sk-container-id-8 label.sk-toggleable__label-arrow:hover:before {color: black;}#sk-container-id-8 div.sk-estimator:hover label.sk-toggleable__label-arrow:before {color: black;}#sk-container-id-8 div.sk-toggleable__content {max-height: 0;max-width: 0;overflow: hidden;text-align: left;background-color: #f0f8ff;}#sk-container-id-8 div.sk-toggleable__content pre {margin: 0.2em;color: black;border-radius: 0.25em;background-color: #f0f8ff;}#sk-container-id-8 input.sk-toggleable__control:checked~div.sk-toggleable__content {max-height: 200px;max-width: 100%;overflow: auto;}#sk-container-id-8 input.sk-toggleable__control:checked~label.sk-toggleable__label-arrow:before {content: \"▾\";}#sk-container-id-8 div.sk-estimator input.sk-toggleable__control:checked~label.sk-toggleable__label {background-color: #d4ebff;}#sk-container-id-8 div.sk-label input.sk-toggleable__control:checked~label.sk-toggleable__label {background-color: #d4ebff;}#sk-container-id-8 input.sk-hidden--visually {border: 0;clip: rect(1px 1px 1px 1px);clip: rect(1px, 1px, 1px, 1px);height: 1px;margin: -1px;overflow: hidden;padding: 0;position: absolute;width: 1px;}#sk-container-id-8 div.sk-estimator {font-family: monospace;background-color: #f0f8ff;border: 1px dotted black;border-radius: 0.25em;box-sizing: border-box;margin-bottom: 0.5em;}#sk-container-id-8 div.sk-estimator:hover {background-color: #d4ebff;}#sk-container-id-8 div.sk-parallel-item::after {content: \"\";width: 100%;border-bottom: 1px solid gray;flex-grow: 1;}#sk-container-id-8 div.sk-label:hover label.sk-toggleable__label {background-color: #d4ebff;}#sk-container-id-8 div.sk-serial::before {content: \"\";position: absolute;border-left: 1px solid gray;box-sizing: border-box;top: 0;bottom: 0;left: 50%;z-index: 0;}#sk-container-id-8 div.sk-serial {display: flex;flex-direction: column;align-items: center;background-color: white;padding-right: 0.2em;padding-left: 0.2em;position: relative;}#sk-container-id-8 div.sk-item {position: relative;z-index: 1;}#sk-container-id-8 div.sk-parallel {display: flex;align-items: stretch;justify-content: center;background-color: white;position: relative;}#sk-container-id-8 div.sk-item::before, #sk-container-id-8 div.sk-parallel-item::before {content: \"\";position: absolute;border-left: 1px solid gray;box-sizing: border-box;top: 0;bottom: 0;left: 50%;z-index: -1;}#sk-container-id-8 div.sk-parallel-item {display: flex;flex-direction: column;z-index: 1;position: relative;background-color: white;}#sk-container-id-8 div.sk-parallel-item:first-child::after {align-self: flex-end;width: 50%;}#sk-container-id-8 div.sk-parallel-item:last-child::after {align-self: flex-start;width: 50%;}#sk-container-id-8 div.sk-parallel-item:only-child::after {width: 0;}#sk-container-id-8 div.sk-dashed-wrapped {border: 1px dashed gray;margin: 0 0.4em 0.5em 0.4em;box-sizing: border-box;padding-bottom: 0.4em;background-color: white;}#sk-container-id-8 div.sk-label label {font-family: monospace;font-weight: bold;display: inline-block;line-height: 1.2em;}#sk-container-id-8 div.sk-label-container {text-align: center;}#sk-container-id-8 div.sk-container {/* jupyter's `normalize.less` sets `[hidden] { display: none; }` but bootstrap.min.css set `[hidden] { display: none !important; }` so we also need the `!important` here to be able to override the default hidden behavior on the sphinx rendered scikit-learn.org. See: https://github.com/scikit-learn/scikit-learn/issues/21755 */display: inline-block !important;position: relative;}#sk-container-id-8 div.sk-text-repr-fallback {display: none;}</style><div id=\"sk-container-id-8\" class=\"sk-top-container\"><div class=\"sk-text-repr-fallback\"><pre>XGBRegressor(base_score=None, booster=None, callbacks=None,\n             colsample_bylevel=None, colsample_bynode=None,\n             colsample_bytree=None, early_stopping_rounds=10,\n             enable_categorical=False, eval_metric=None, feature_types=None,\n             gamma=None, gpu_id=None, grow_policy=None, importance_type=None,\n             interaction_constraints=None, learning_rate=None, max_bin=None,\n             max_cat_threshold=None, max_cat_to_onehot=None,\n             max_delta_step=None, max_depth=None, max_leaves=None,\n             min_child_weight=None, missing=nan, monotone_constraints=None,\n             n_estimators=100, n_jobs=None, num_parallel_tree=None,\n             predictor=None, random_state=None, ...)</pre><b>In a Jupyter environment, please rerun this cell to show the HTML representation or trust the notebook. <br />On GitHub, the HTML representation is unable to render, please try loading this page with nbviewer.org.</b></div><div class=\"sk-container\" hidden><div class=\"sk-item\"><div class=\"sk-estimator sk-toggleable\"><input class=\"sk-toggleable__control sk-hidden--visually\" id=\"sk-estimator-id-7\" type=\"checkbox\" checked><label for=\"sk-estimator-id-7\" class=\"sk-toggleable__label sk-toggleable__label-arrow\">XGBRegressor</label><div class=\"sk-toggleable__content\"><pre>XGBRegressor(base_score=None, booster=None, callbacks=None,\n             colsample_bylevel=None, colsample_bynode=None,\n             colsample_bytree=None, early_stopping_rounds=10,\n             enable_categorical=False, eval_metric=None, feature_types=None,\n             gamma=None, gpu_id=None, grow_policy=None, importance_type=None,\n             interaction_constraints=None, learning_rate=None, max_bin=None,\n             max_cat_threshold=None, max_cat_to_onehot=None,\n             max_delta_step=None, max_depth=None, max_leaves=None,\n             min_child_weight=None, missing=nan, monotone_constraints=None,\n             n_estimators=100, n_jobs=None, num_parallel_tree=None,\n             predictor=None, random_state=None, ...)</pre></div></div></div></div></div>"
     },
     "execution_count": 154,
     "metadata": {},
     "output_type": "execute_result"
    }
   ],
   "source": [
    "xg.fit(X_train, y_train, eval_set=evaluation)"
   ],
   "metadata": {
    "collapsed": false,
    "ExecuteTime": {
     "end_time": "2023-12-02T20:58:25.354635Z",
     "start_time": "2023-12-02T20:58:25.136142Z"
    }
   },
   "id": "5f95fb76604ad86d"
  },
  {
   "cell_type": "code",
   "execution_count": 155,
   "outputs": [
    {
     "name": "stdout",
     "output_type": "stream",
     "text": [
      "[0]\tvalidation_0-rmse:94.22152\tvalidation_1-rmse:83.68270\n",
      "[1]\tvalidation_0-rmse:73.30294\tvalidation_1-rmse:66.67974\n",
      "[2]\tvalidation_0-rmse:58.75377\tvalidation_1-rmse:55.59619\n",
      "[3]\tvalidation_0-rmse:48.54623\tvalidation_1-rmse:49.31067\n",
      "[4]\tvalidation_0-rmse:41.19431\tvalidation_1-rmse:47.96032\n",
      "[5]\tvalidation_0-rmse:35.71972\tvalidation_1-rmse:48.39448\n",
      "[6]\tvalidation_0-rmse:31.85567\tvalidation_1-rmse:48.31734\n",
      "[7]\tvalidation_0-rmse:29.24241\tvalidation_1-rmse:49.01986\n",
      "[8]\tvalidation_0-rmse:27.29770\tvalidation_1-rmse:48.73836\n",
      "[9]\tvalidation_0-rmse:26.03929\tvalidation_1-rmse:49.11177\n",
      "[10]\tvalidation_0-rmse:24.83452\tvalidation_1-rmse:49.59899\n",
      "[11]\tvalidation_0-rmse:23.67011\tvalidation_1-rmse:49.81794\n",
      "[12]\tvalidation_0-rmse:22.92221\tvalidation_1-rmse:49.88742\n",
      "[13]\tvalidation_0-rmse:22.48505\tvalidation_1-rmse:50.00398\n",
      "[14]\tvalidation_0-rmse:21.97194\tvalidation_1-rmse:50.14763\n"
     ]
    },
    {
     "name": "stderr",
     "output_type": "stream",
     "text": [
      "/Users/everreyesruiz/mambaforge/envs/ml/lib/python3.11/site-packages/xgboost/data.py:312: FutureWarning: is_sparse is deprecated and will be removed in a future version. Check `isinstance(dtype, pd.SparseDtype)` instead.\n",
      "  if is_sparse(dtype):\n",
      "/Users/everreyesruiz/mambaforge/envs/ml/lib/python3.11/site-packages/xgboost/data.py:314: FutureWarning: is_categorical_dtype is deprecated and will be removed in a future version. Use isinstance(dtype, CategoricalDtype) instead\n",
      "  elif is_categorical_dtype(dtype) and enable_categorical:\n",
      "/Users/everreyesruiz/mambaforge/envs/ml/lib/python3.11/site-packages/xgboost/data.py:345: FutureWarning: is_categorical_dtype is deprecated and will be removed in a future version. Use isinstance(dtype, CategoricalDtype) instead\n",
      "  if is_categorical_dtype(dtype)\n",
      "/Users/everreyesruiz/mambaforge/envs/ml/lib/python3.11/site-packages/xgboost/data.py:336: FutureWarning: is_categorical_dtype is deprecated and will be removed in a future version. Use isinstance(dtype, CategoricalDtype) instead\n",
      "  return is_int or is_bool or is_float or is_categorical_dtype(dtype)\n",
      "/Users/everreyesruiz/mambaforge/envs/ml/lib/python3.11/site-packages/xgboost/data.py:440: FutureWarning: is_sparse is deprecated and will be removed in a future version. Check `isinstance(dtype, pd.SparseDtype)` instead.\n",
      "  if is_sparse(data):\n",
      "/Users/everreyesruiz/mambaforge/envs/ml/lib/python3.11/site-packages/xgboost/data.py:312: FutureWarning: is_sparse is deprecated and will be removed in a future version. Check `isinstance(dtype, pd.SparseDtype)` instead.\n",
      "  if is_sparse(dtype):\n",
      "/Users/everreyesruiz/mambaforge/envs/ml/lib/python3.11/site-packages/xgboost/data.py:314: FutureWarning: is_categorical_dtype is deprecated and will be removed in a future version. Use isinstance(dtype, CategoricalDtype) instead\n",
      "  elif is_categorical_dtype(dtype) and enable_categorical:\n",
      "/Users/everreyesruiz/mambaforge/envs/ml/lib/python3.11/site-packages/xgboost/data.py:345: FutureWarning: is_categorical_dtype is deprecated and will be removed in a future version. Use isinstance(dtype, CategoricalDtype) instead\n",
      "  if is_categorical_dtype(dtype)\n",
      "/Users/everreyesruiz/mambaforge/envs/ml/lib/python3.11/site-packages/xgboost/data.py:336: FutureWarning: is_categorical_dtype is deprecated and will be removed in a future version. Use isinstance(dtype, CategoricalDtype) instead\n",
      "  return is_int or is_bool or is_float or is_categorical_dtype(dtype)\n",
      "/Users/everreyesruiz/mambaforge/envs/ml/lib/python3.11/site-packages/xgboost/data.py:440: FutureWarning: is_sparse is deprecated and will be removed in a future version. Check `isinstance(dtype, pd.SparseDtype)` instead.\n",
      "  if is_sparse(data):\n"
     ]
    },
    {
     "data": {
      "text/plain": "XGBRegressor(base_score=None, booster=None, callbacks=None,\n             colsample_bylevel=None, colsample_bynode=None,\n             colsample_bytree=None, early_stopping_rounds=10,\n             enable_categorical=False, eval_metric=None, feature_types=None,\n             gamma=None, gpu_id=None, grow_policy=None, importance_type=None,\n             interaction_constraints=None, learning_rate=None, max_bin=None,\n             max_cat_threshold=None, max_cat_to_onehot=None,\n             max_delta_step=None, max_depth=None, max_leaves=None,\n             min_child_weight=None, missing=nan, monotone_constraints=None,\n             n_estimators=100, n_jobs=None, num_parallel_tree=None,\n             predictor=None, random_state=None, ...)",
      "text/html": "<style>#sk-container-id-9 {color: black;}#sk-container-id-9 pre{padding: 0;}#sk-container-id-9 div.sk-toggleable {background-color: white;}#sk-container-id-9 label.sk-toggleable__label {cursor: pointer;display: block;width: 100%;margin-bottom: 0;padding: 0.3em;box-sizing: border-box;text-align: center;}#sk-container-id-9 label.sk-toggleable__label-arrow:before {content: \"▸\";float: left;margin-right: 0.25em;color: #696969;}#sk-container-id-9 label.sk-toggleable__label-arrow:hover:before {color: black;}#sk-container-id-9 div.sk-estimator:hover label.sk-toggleable__label-arrow:before {color: black;}#sk-container-id-9 div.sk-toggleable__content {max-height: 0;max-width: 0;overflow: hidden;text-align: left;background-color: #f0f8ff;}#sk-container-id-9 div.sk-toggleable__content pre {margin: 0.2em;color: black;border-radius: 0.25em;background-color: #f0f8ff;}#sk-container-id-9 input.sk-toggleable__control:checked~div.sk-toggleable__content {max-height: 200px;max-width: 100%;overflow: auto;}#sk-container-id-9 input.sk-toggleable__control:checked~label.sk-toggleable__label-arrow:before {content: \"▾\";}#sk-container-id-9 div.sk-estimator input.sk-toggleable__control:checked~label.sk-toggleable__label {background-color: #d4ebff;}#sk-container-id-9 div.sk-label input.sk-toggleable__control:checked~label.sk-toggleable__label {background-color: #d4ebff;}#sk-container-id-9 input.sk-hidden--visually {border: 0;clip: rect(1px 1px 1px 1px);clip: rect(1px, 1px, 1px, 1px);height: 1px;margin: -1px;overflow: hidden;padding: 0;position: absolute;width: 1px;}#sk-container-id-9 div.sk-estimator {font-family: monospace;background-color: #f0f8ff;border: 1px dotted black;border-radius: 0.25em;box-sizing: border-box;margin-bottom: 0.5em;}#sk-container-id-9 div.sk-estimator:hover {background-color: #d4ebff;}#sk-container-id-9 div.sk-parallel-item::after {content: \"\";width: 100%;border-bottom: 1px solid gray;flex-grow: 1;}#sk-container-id-9 div.sk-label:hover label.sk-toggleable__label {background-color: #d4ebff;}#sk-container-id-9 div.sk-serial::before {content: \"\";position: absolute;border-left: 1px solid gray;box-sizing: border-box;top: 0;bottom: 0;left: 50%;z-index: 0;}#sk-container-id-9 div.sk-serial {display: flex;flex-direction: column;align-items: center;background-color: white;padding-right: 0.2em;padding-left: 0.2em;position: relative;}#sk-container-id-9 div.sk-item {position: relative;z-index: 1;}#sk-container-id-9 div.sk-parallel {display: flex;align-items: stretch;justify-content: center;background-color: white;position: relative;}#sk-container-id-9 div.sk-item::before, #sk-container-id-9 div.sk-parallel-item::before {content: \"\";position: absolute;border-left: 1px solid gray;box-sizing: border-box;top: 0;bottom: 0;left: 50%;z-index: -1;}#sk-container-id-9 div.sk-parallel-item {display: flex;flex-direction: column;z-index: 1;position: relative;background-color: white;}#sk-container-id-9 div.sk-parallel-item:first-child::after {align-self: flex-end;width: 50%;}#sk-container-id-9 div.sk-parallel-item:last-child::after {align-self: flex-start;width: 50%;}#sk-container-id-9 div.sk-parallel-item:only-child::after {width: 0;}#sk-container-id-9 div.sk-dashed-wrapped {border: 1px dashed gray;margin: 0 0.4em 0.5em 0.4em;box-sizing: border-box;padding-bottom: 0.4em;background-color: white;}#sk-container-id-9 div.sk-label label {font-family: monospace;font-weight: bold;display: inline-block;line-height: 1.2em;}#sk-container-id-9 div.sk-label-container {text-align: center;}#sk-container-id-9 div.sk-container {/* jupyter's `normalize.less` sets `[hidden] { display: none; }` but bootstrap.min.css set `[hidden] { display: none !important; }` so we also need the `!important` here to be able to override the default hidden behavior on the sphinx rendered scikit-learn.org. See: https://github.com/scikit-learn/scikit-learn/issues/21755 */display: inline-block !important;position: relative;}#sk-container-id-9 div.sk-text-repr-fallback {display: none;}</style><div id=\"sk-container-id-9\" class=\"sk-top-container\"><div class=\"sk-text-repr-fallback\"><pre>XGBRegressor(base_score=None, booster=None, callbacks=None,\n             colsample_bylevel=None, colsample_bynode=None,\n             colsample_bytree=None, early_stopping_rounds=10,\n             enable_categorical=False, eval_metric=None, feature_types=None,\n             gamma=None, gpu_id=None, grow_policy=None, importance_type=None,\n             interaction_constraints=None, learning_rate=None, max_bin=None,\n             max_cat_threshold=None, max_cat_to_onehot=None,\n             max_delta_step=None, max_depth=None, max_leaves=None,\n             min_child_weight=None, missing=nan, monotone_constraints=None,\n             n_estimators=100, n_jobs=None, num_parallel_tree=None,\n             predictor=None, random_state=None, ...)</pre><b>In a Jupyter environment, please rerun this cell to show the HTML representation or trust the notebook. <br />On GitHub, the HTML representation is unable to render, please try loading this page with nbviewer.org.</b></div><div class=\"sk-container\" hidden><div class=\"sk-item\"><div class=\"sk-estimator sk-toggleable\"><input class=\"sk-toggleable__control sk-hidden--visually\" id=\"sk-estimator-id-8\" type=\"checkbox\" checked><label for=\"sk-estimator-id-8\" class=\"sk-toggleable__label sk-toggleable__label-arrow\">XGBRegressor</label><div class=\"sk-toggleable__content\"><pre>XGBRegressor(base_score=None, booster=None, callbacks=None,\n             colsample_bylevel=None, colsample_bynode=None,\n             colsample_bytree=None, early_stopping_rounds=10,\n             enable_categorical=False, eval_metric=None, feature_types=None,\n             gamma=None, gpu_id=None, grow_policy=None, importance_type=None,\n             interaction_constraints=None, learning_rate=None, max_bin=None,\n             max_cat_threshold=None, max_cat_to_onehot=None,\n             max_delta_step=None, max_depth=None, max_leaves=None,\n             min_child_weight=None, missing=nan, monotone_constraints=None,\n             n_estimators=100, n_jobs=None, num_parallel_tree=None,\n             predictor=None, random_state=None, ...)</pre></div></div></div></div></div>"
     },
     "execution_count": 155,
     "metadata": {},
     "output_type": "execute_result"
    }
   ],
   "source": [
    "xg.fit(X_train, y_train, eval_set=evaluation)"
   ],
   "metadata": {
    "collapsed": false,
    "ExecuteTime": {
     "end_time": "2023-12-02T20:59:27.447350Z",
     "start_time": "2023-12-02T20:59:27.197576Z"
    }
   },
   "id": "ce4e44c15a691ef0"
  },
  {
   "cell_type": "code",
   "execution_count": 156,
   "outputs": [
    {
     "name": "stderr",
     "output_type": "stream",
     "text": [
      "/Users/everreyesruiz/mambaforge/envs/ml/lib/python3.11/site-packages/xgboost/data.py:312: FutureWarning: is_sparse is deprecated and will be removed in a future version. Check `isinstance(dtype, pd.SparseDtype)` instead.\n",
      "  if is_sparse(dtype):\n",
      "/Users/everreyesruiz/mambaforge/envs/ml/lib/python3.11/site-packages/xgboost/data.py:314: FutureWarning: is_categorical_dtype is deprecated and will be removed in a future version. Use isinstance(dtype, CategoricalDtype) instead\n",
      "  elif is_categorical_dtype(dtype) and enable_categorical:\n",
      "/Users/everreyesruiz/mambaforge/envs/ml/lib/python3.11/site-packages/xgboost/data.py:345: FutureWarning: is_categorical_dtype is deprecated and will be removed in a future version. Use isinstance(dtype, CategoricalDtype) instead\n",
      "  if is_categorical_dtype(dtype)\n",
      "/Users/everreyesruiz/mambaforge/envs/ml/lib/python3.11/site-packages/xgboost/data.py:336: FutureWarning: is_categorical_dtype is deprecated and will be removed in a future version. Use isinstance(dtype, CategoricalDtype) instead\n",
      "  return is_int or is_bool or is_float or is_categorical_dtype(dtype)\n"
     ]
    },
    {
     "data": {
      "text/plain": "0.1831625155577825"
     },
     "execution_count": 156,
     "metadata": {},
     "output_type": "execute_result"
    }
   ],
   "source": [
    "xg.score(X_test, y_test)"
   ],
   "metadata": {
    "collapsed": false,
    "ExecuteTime": {
     "end_time": "2023-12-02T20:59:52.453275Z",
     "start_time": "2023-12-02T20:59:52.358367Z"
    }
   },
   "id": "b44f92749ce4934"
  },
  {
   "cell_type": "markdown",
   "source": [
    "# Visualization"
   ],
   "metadata": {
    "collapsed": false
   },
   "id": "3ffa123da13c682d"
  },
  {
   "cell_type": "code",
   "execution_count": null,
   "outputs": [],
   "source": [],
   "metadata": {
    "collapsed": false
   },
   "id": "9562c4cd07135028"
  }
 ],
 "metadata": {
  "kernelspec": {
   "display_name": "Python 3",
   "language": "python",
   "name": "python3"
  },
  "language_info": {
   "codemirror_mode": {
    "name": "ipython",
    "version": 2
   },
   "file_extension": ".py",
   "mimetype": "text/x-python",
   "name": "python",
   "nbconvert_exporter": "python",
   "pygments_lexer": "ipython2",
   "version": "2.7.6"
  }
 },
 "nbformat": 4,
 "nbformat_minor": 5
}
