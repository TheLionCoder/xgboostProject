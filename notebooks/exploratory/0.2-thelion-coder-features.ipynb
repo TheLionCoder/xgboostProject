{
 "cells": [
  {
   "cell_type": "code",
   "execution_count": 95,
   "metadata": {
    "ExecuteTime": {
     "start_time": "2023-04-01T17:48:46.906724Z",
     "end_time": "2023-04-01T17:48:49.030004Z"
    },
    "collapsed": true
   },
   "outputs": [
    {
     "name": "stdout",
     "output_type": "stream",
     "text": [
      "The autoreload extension is already loaded. To reload it, use:\n",
      "  %reload_ext autoreload\n"
     ]
    }
   ],
   "source": [
    "%matplotlib inline\n",
    "# OPTIONAL: Load the \"autoreload\" extension so that the code can change\n",
    "%load_ext autoreload\n",
    "%autoreload 2"
   ]
  },
  {
   "cell_type": "code",
   "execution_count": 96,
   "metadata": {
    "ExecuteTime": {
     "start_time": "2023-04-01T17:51:29.718002Z",
     "end_time": "2023-04-01T17:51:29.897724Z"
    },
    "collapsed": false
   },
   "outputs": [],
   "source": [
    "import os\n",
    "import sys\n",
    "from pathlib import Path\n",
    "import urllib\n",
    "import zipfile\n",
    "from typing import Dict\n",
    "from feature_engine import encoding, imputation\n",
    "import matplotlib.pyplot as plt\n",
    "import numpy as np\n",
    "import pandas as pd\n",
    "from sklearn import (\n",
    "    base,\n",
    "    compose,\n",
    "    datasets,\n",
    "    ensemble,\n",
    "    metrics,\n",
    "    model_selection,\n",
    "    pipeline,\n",
    "    preprocessing,\n",
    ")\n",
    "import scikitplot\n",
    "import xgboost as xgb\n",
    "import yellowbrick.model_selection\n",
    "from yellowbrick import classifier\n",
    "import dtreeviz\n",
    "from hyperopt import fmin, tpe, hp, Trials"
   ]
  },
  {
   "cell_type": "code",
   "execution_count": null,
   "metadata": {
    "ExecuteTime": {
     "start_time": "2023-04-01T16:12:26.437624Z",
     "end_time": "2023-04-01T16:12:26.578047Z"
    }
   },
   "outputs": [],
   "source": [
    "from src.data.Utils import Utils\n",
    "from src.data.KagTransformer import TweakKagTransformer"
   ]
  },
  {
   "cell_type": "code",
   "execution_count": null,
   "metadata": {
    "ExecuteTime": {
     "start_time": "2023-04-01T16:12:27.843461Z",
     "end_time": "2023-04-01T16:12:28.001894Z"
    },
    "collapsed": false
   },
   "outputs": [],
   "source": [
    "plt.style.use(\"ggplot\")"
   ]
  },
  {
   "cell_type": "markdown",
   "metadata": {
    "collapsed": false
   },
   "source": [
    "# Set Variables"
   ]
  },
  {
   "cell_type": "code",
   "execution_count": null,
   "metadata": {
    "ExecuteTime": {
     "start_time": "2023-04-01T16:12:29.612452Z",
     "end_time": "2023-04-01T16:12:29.703673Z"
    },
    "collapsed": false
   },
   "outputs": [],
   "source": [
    "url: str = (\n",
    "    \"https://github.com/mattharrison/datasets/raw/master/data/\" \"kaggle-survey-2018.zip\"\n",
    ")\n",
    "folder_name: str = \"kaggle-survey-2018.zip\"\n",
    "member_name: str = \"multipleChoiceResponses.csv\""
   ]
  },
  {
   "cell_type": "code",
   "execution_count": null,
   "metadata": {
    "ExecuteTime": {
     "start_time": "2023-04-01T16:12:30.802013Z",
     "end_time": "2023-04-01T16:12:30.955675Z"
    },
    "collapsed": false
   },
   "outputs": [],
   "source": [
    "# Paths\n",
    "HOME: Path = Path.cwd().parents\n",
    "data_folder: str = HOME[1] / f\"data/raw/{folder_name}\"\n",
    "figures_folder: str = HOME[1] / \"reports/figures\""
   ]
  },
  {
   "cell_type": "markdown",
   "metadata": {
    "collapsed": false
   },
   "source": [
    "### Datasets"
   ]
  },
  {
   "cell_type": "code",
   "execution_count": null,
   "metadata": {
    "ExecuteTime": {
     "start_time": "2023-04-01T16:12:32.480827Z",
     "end_time": "2023-04-01T16:12:38.182885Z"
    },
    "collapsed": false
   },
   "outputs": [],
   "source": [
    "raw = Utils.extract_zip(src=url, dst=data_folder, member_name=member_name)"
   ]
  },
  {
   "cell_type": "markdown",
   "metadata": {
    "collapsed": false
   },
   "source": [
    "## Create raw X and raw y"
   ]
  },
  {
   "cell_type": "code",
   "execution_count": null,
   "metadata": {
    "ExecuteTime": {
     "start_time": "2023-04-01T16:12:41.621088Z",
     "end_time": "2023-04-01T16:12:42.074301Z"
    },
    "collapsed": false
   },
   "outputs": [],
   "source": [
    "kag_X, kag_y = Utils.get_rawx_y(df=raw, y_col=\"Q6\")"
   ]
  },
  {
   "cell_type": "markdown",
   "metadata": {
    "collapsed": false
   },
   "source": [
    "## Splitdata"
   ]
  },
  {
   "cell_type": "code",
   "execution_count": null,
   "metadata": {
    "ExecuteTime": {
     "start_time": "2023-04-01T16:12:43.923940Z",
     "end_time": "2023-04-01T16:12:44.085102Z"
    },
    "collapsed": false
   },
   "outputs": [],
   "source": [
    "kag_X_train, kag_X_test, kag_y_train, kag_y_test = model_selection.train_test_split(\n",
    "    kag_X, kag_y, test_size=0.3, random_state=42, stratify=kag_y\n",
    ")"
   ]
  },
  {
   "cell_type": "markdown",
   "metadata": {
    "collapsed": false
   },
   "source": [
    "## Trasform X with pipeline"
   ]
  },
  {
   "cell_type": "code",
   "execution_count": null,
   "metadata": {
    "ExecuteTime": {
     "start_time": "2023-04-01T16:12:50.323052Z",
     "end_time": "2023-04-01T16:12:50.407807Z"
    },
    "collapsed": false
   },
   "outputs": [],
   "source": [
    "kag_pl = pipeline.Pipeline(\n",
    "    [\n",
    "        (\"tweak\", TweakKagTransformer()),\n",
    "        (\n",
    "            \"cat\",\n",
    "            encoding.OneHotEncoder(\n",
    "                top_categories=5, drop_last=True, variables=[\"Q1\", \"Q3\", \"major\"]\n",
    "            ),\n",
    "        ),\n",
    "        (\n",
    "            \"num_impute\",\n",
    "            imputation.MeanMedianImputer(\n",
    "                imputation_method=\"median\", variables=[\"education\", \"years_exp\"]\n",
    "            ),\n",
    "        ),\n",
    "    ]\n",
    ")"
   ]
  },
  {
   "cell_type": "code",
   "execution_count": null,
   "metadata": {
    "ExecuteTime": {
     "start_time": "2023-04-01T16:12:51.065853Z",
     "end_time": "2023-04-01T16:12:51.287502Z"
    },
    "collapsed": false
   },
   "outputs": [],
   "source": [
    "X_train = kag_pl.fit_transform(kag_X_train)\n",
    "X_test = kag_pl.transform(kag_X_test)"
   ]
  },
  {
   "cell_type": "markdown",
   "metadata": {
    "collapsed": false
   },
   "source": [
    "## Transform y with label encoder"
   ]
  },
  {
   "cell_type": "code",
   "execution_count": null,
   "metadata": {
    "ExecuteTime": {
     "start_time": "2023-04-01T16:12:52.590124Z",
     "end_time": "2023-04-01T16:12:52.724535Z"
    },
    "collapsed": false
   },
   "outputs": [],
   "source": [
    "label_encoder = preprocessing.LabelEncoder()\n",
    "label_encoder.fit(kag_y_train)\n",
    "y_train = label_encoder.transform(kag_y_train)\n",
    "y_test = label_encoder.transform(kag_y_test)"
   ]
  },
  {
   "cell_type": "markdown",
   "metadata": {
    "collapsed": false
   },
   "source": [
    "# Combined data for cross validation/etc"
   ]
  },
  {
   "cell_type": "code",
   "execution_count": null,
   "metadata": {
    "ExecuteTime": {
     "start_time": "2023-04-01T16:12:54.014481Z",
     "end_time": "2023-04-01T16:12:54.116992Z"
    },
    "collapsed": false
   },
   "outputs": [],
   "source": [
    "X = pd.concat([X_train, X_test])\n",
    "y = pd.Series([*y_train, *y_test], index=X.index)"
   ]
  },
  {
   "cell_type": "markdown",
   "metadata": {
    "collapsed": false
   },
   "source": [
    "## A boosted model"
   ]
  },
  {
   "cell_type": "code",
   "execution_count": null,
   "metadata": {
    "ExecuteTime": {
     "start_time": "2023-04-01T16:12:55.480487Z",
     "end_time": "2023-04-01T16:12:55.574750Z"
    },
    "collapsed": false
   },
   "outputs": [],
   "source": [
    "xg_oob = xgb.XGBClassifier()"
   ]
  },
  {
   "cell_type": "code",
   "execution_count": null,
   "metadata": {
    "ExecuteTime": {
     "start_time": "2023-04-01T16:12:56.304755Z",
     "end_time": "2023-04-01T16:12:57.103065Z"
    },
    "collapsed": false
   },
   "outputs": [],
   "source": [
    "xg_oob.fit(X_train, y_train)"
   ]
  },
  {
   "cell_type": "code",
   "execution_count": null,
   "metadata": {
    "ExecuteTime": {
     "start_time": "2023-04-01T16:12:57.076804Z",
     "end_time": "2023-04-01T16:12:57.252227Z"
    },
    "collapsed": false
   },
   "outputs": [],
   "source": [
    "xg_oob.score(X_test, y_test)"
   ]
  },
  {
   "cell_type": "markdown",
   "metadata": {
    "collapsed": false
   },
   "source": [
    "*Let's try w/ depth of 2 and 2 trees*"
   ]
  },
  {
   "cell_type": "code",
   "execution_count": null,
   "metadata": {
    "ExecuteTime": {
     "start_time": "2023-04-01T16:13:00.934373Z",
     "end_time": "2023-04-01T16:13:01.051970Z"
    },
    "collapsed": false
   },
   "outputs": [],
   "source": [
    "xg2 = xgb.XGBClassifier(max_depth=2, n_estimators=2)"
   ]
  },
  {
   "cell_type": "code",
   "execution_count": null,
   "metadata": {
    "ExecuteTime": {
     "start_time": "2023-04-01T16:13:03.300313Z",
     "end_time": "2023-04-01T16:13:03.480029Z"
    },
    "collapsed": false
   },
   "outputs": [],
   "source": [
    "xg2.fit(X_train, y_train)"
   ]
  },
  {
   "cell_type": "code",
   "execution_count": null,
   "metadata": {
    "ExecuteTime": {
     "start_time": "2023-04-01T16:13:04.322297Z",
     "end_time": "2023-04-01T16:13:04.462892Z"
    },
    "collapsed": false
   },
   "outputs": [],
   "source": [
    "xg2.score(X_test, y_test)"
   ]
  },
  {
   "cell_type": "code",
   "execution_count": null,
   "metadata": {
    "ExecuteTime": {
     "start_time": "2023-04-01T16:13:05.615418Z",
     "end_time": "2023-04-01T16:13:08.082646Z"
    },
    "collapsed": false
   },
   "outputs": [],
   "source": [
    "viz = dtreeviz.model(\n",
    "    xg2,\n",
    "    X_train=X,\n",
    "    y_train=y,\n",
    "    target_name=\"Job\",\n",
    "    feature_names=list(X_train.columns),\n",
    "    class_names=[\"DS\", \"SE\"],\n",
    "    tree_index=0,\n",
    ")\n",
    "viz.view(depth_range_to_display=[0, 2])"
   ]
  },
  {
   "cell_type": "code",
   "execution_count": null,
   "metadata": {
    "ExecuteTime": {
     "start_time": "2023-04-01T16:13:09.140764Z",
     "end_time": "2023-04-01T16:13:10.096152Z"
    },
    "collapsed": false
   },
   "outputs": [],
   "source": [
    "xgb.plot_tree(xg2, num_trees=0)"
   ]
  },
  {
   "cell_type": "markdown",
   "metadata": {
    "collapsed": false
   },
   "source": [
    "## Early Stopping\n",
    "Reduce overfitting."
   ]
  },
  {
   "cell_type": "code",
   "execution_count": null,
   "metadata": {
    "ExecuteTime": {
     "start_time": "2023-04-01T16:13:11.522644Z",
     "end_time": "2023-04-01T16:13:11.697287Z"
    },
    "collapsed": false
   },
   "outputs": [],
   "source": [
    "# Defaults\n",
    "xg = xgb.XGBClassifier()"
   ]
  },
  {
   "cell_type": "code",
   "execution_count": null,
   "metadata": {
    "ExecuteTime": {
     "start_time": "2023-04-01T16:13:12.431205Z",
     "end_time": "2023-04-01T16:13:13.318830Z"
    },
    "collapsed": false
   },
   "outputs": [],
   "source": [
    "xg.fit(X_train, y_train)"
   ]
  },
  {
   "cell_type": "code",
   "execution_count": null,
   "metadata": {
    "ExecuteTime": {
     "start_time": "2023-04-01T16:13:14.340891Z",
     "end_time": "2023-04-01T16:13:14.488773Z"
    },
    "collapsed": false
   },
   "outputs": [],
   "source": [
    "xg.score(X_test, y_test)"
   ]
  },
  {
   "cell_type": "code",
   "execution_count": null,
   "metadata": {
    "ExecuteTime": {
     "start_time": "2023-04-01T16:13:15.637526Z",
     "end_time": "2023-04-01T16:13:15.773046Z"
    },
    "collapsed": false
   },
   "outputs": [],
   "source": [
    "# Customized early stopping\n",
    "xg = xgb.XGBClassifier(early_stopping_rounds=20)"
   ]
  },
  {
   "cell_type": "code",
   "execution_count": null,
   "metadata": {
    "ExecuteTime": {
     "start_time": "2023-04-01T16:13:16.931233Z",
     "end_time": "2023-04-01T16:13:17.517109Z"
    },
    "collapsed": false
   },
   "outputs": [],
   "source": [
    "xg.fit(X_train, y_train, eval_set=[(X_train, y_train), (X_test, y_test)])"
   ]
  },
  {
   "cell_type": "code",
   "execution_count": null,
   "metadata": {
    "ExecuteTime": {
     "start_time": "2023-04-01T16:13:20.151410Z",
     "end_time": "2023-04-01T16:13:20.313623Z"
    },
    "collapsed": false
   },
   "outputs": [],
   "source": [
    "xg.best_ntree_limit"
   ]
  },
  {
   "cell_type": "markdown",
   "metadata": {
    "collapsed": false
   },
   "source": [
    "### Plotting Tree performance\n",
    "Validation_0 is for training data\n",
    "Validation_1 is for testing data"
   ]
  },
  {
   "cell_type": "code",
   "execution_count": null,
   "metadata": {
    "ExecuteTime": {
     "start_time": "2023-04-01T16:13:23.007265Z",
     "end_time": "2023-04-01T16:13:23.142284Z"
    },
    "collapsed": false
   },
   "outputs": [],
   "source": [
    "results = xg.evals_result()"
   ]
  },
  {
   "cell_type": "code",
   "execution_count": null,
   "metadata": {
    "ExecuteTime": {
     "start_time": "2023-04-01T16:13:23.889948Z",
     "end_time": "2023-04-01T16:13:24.031716Z"
    },
    "collapsed": false
   },
   "outputs": [],
   "source": [
    "results"
   ]
  },
  {
   "cell_type": "code",
   "execution_count": null,
   "metadata": {
    "ExecuteTime": {
     "start_time": "2023-04-01T16:13:44.858048Z",
     "end_time": "2023-04-01T16:13:45.628216Z"
    },
    "collapsed": false
   },
   "outputs": [],
   "source": [
    "# Testing score is best at 13 trees\n",
    "fig, ax = plt.subplots(figsize=(8, 4))\n",
    "ax = (\n",
    "    pd.DataFrame(\n",
    "        {\n",
    "            \"training\": results[\"validation_0\"][\"logloss\"],\n",
    "            \"testing\": results[\"validation_1\"][\"logloss\"],\n",
    "        }\n",
    "    )\n",
    "    .assign(ntrees=lambda adf: range(1, len(adf) + 1))\n",
    "    .set_index(\"ntrees\")\n",
    "    .plot(figsize=(5, 4), ax=ax, title=\"eval_results with early stopping\")\n",
    ")\n",
    "ax.annotate(\n",
    "    \"best number \\nof trees (13)\",\n",
    "    xy=(13, 0.498),\n",
    "    xytext=(20, 0.42),\n",
    "    arrowprops={\"color\": \"k\"},\n",
    ")\n",
    "ax.set_xlabel(\"ntrees\")\n",
    "plt.show()"
   ]
  },
  {
   "cell_type": "code",
   "execution_count": null,
   "metadata": {
    "collapsed": false,
    "ExecuteTime": {
     "start_time": "2023-04-01T16:15:27.664920Z",
     "end_time": "2023-04-01T16:15:27.940798Z"
    }
   },
   "outputs": [],
   "source": [
    "# using a value from early stopping gives same result\n",
    "xg13 = xgb.XGBClassifier(n_estimators=13)"
   ]
  },
  {
   "cell_type": "code",
   "execution_count": null,
   "outputs": [],
   "source": [
    "xg13.fit(X_train, y_train, eval_set=[(X_train, y_train), (X_test, y_test)])"
   ],
   "metadata": {
    "collapsed": false,
    "ExecuteTime": {
     "start_time": "2023-04-01T16:15:49.517374Z",
     "end_time": "2023-04-01T16:15:49.772170Z"
    }
   }
  },
  {
   "cell_type": "code",
   "execution_count": null,
   "outputs": [],
   "source": [
    "xg13.score(X_test, y_test)"
   ],
   "metadata": {
    "collapsed": false,
    "ExecuteTime": {
     "start_time": "2023-04-01T16:16:04.013714Z",
     "end_time": "2023-04-01T16:16:04.155265Z"
    }
   }
  },
  {
   "cell_type": "code",
   "execution_count": null,
   "outputs": [],
   "source": [
    "# No early stopping, uses all stimators\n",
    "xg_no_est = xgb.XGBClassifier()"
   ],
   "metadata": {
    "collapsed": false,
    "ExecuteTime": {
     "start_time": "2023-04-01T16:16:55.632166Z",
     "end_time": "2023-04-01T16:16:55.752301Z"
    }
   }
  },
  {
   "cell_type": "code",
   "execution_count": null,
   "outputs": [],
   "source": [
    "xg_no_est.fit(X_train, y_train)"
   ],
   "metadata": {
    "collapsed": false,
    "ExecuteTime": {
     "start_time": "2023-04-01T16:17:21.499623Z",
     "end_time": "2023-04-01T16:17:22.382765Z"
    }
   }
  },
  {
   "cell_type": "code",
   "execution_count": null,
   "outputs": [],
   "source": [
    "xg_no_est.score(X_test, y_test)"
   ],
   "metadata": {
    "collapsed": false,
    "ExecuteTime": {
     "start_time": "2023-04-01T16:21:35.359576Z",
     "end_time": "2023-04-01T16:21:35.581779Z"
    }
   }
  },
  {
   "cell_type": "code",
   "execution_count": null,
   "outputs": [],
   "source": [
    "xg_error = xgb.XGBClassifier(early_stopping_rounds=20, eval_metric=\"error\")"
   ],
   "metadata": {
    "collapsed": false,
    "ExecuteTime": {
     "start_time": "2023-04-01T16:25:25.412389Z",
     "end_time": "2023-04-01T16:25:26.091356Z"
    }
   }
  },
  {
   "cell_type": "code",
   "execution_count": null,
   "outputs": [],
   "source": [
    "xg_error.fit(X_train, y_train, eval_set=[(X_train, y_train), (X_test, y_test)])"
   ],
   "metadata": {
    "collapsed": false,
    "ExecuteTime": {
     "start_time": "2023-04-01T16:25:35.252332Z",
     "end_time": "2023-04-01T16:25:35.771405Z"
    }
   }
  },
  {
   "cell_type": "code",
   "execution_count": null,
   "outputs": [],
   "source": [
    "xg_error.score(X_test, y_test)"
   ],
   "metadata": {
    "collapsed": false,
    "ExecuteTime": {
     "start_time": "2023-04-01T16:25:51.646901Z",
     "end_time": "2023-04-01T16:25:51.764603Z"
    }
   }
  },
  {
   "cell_type": "code",
   "execution_count": null,
   "outputs": [],
   "source": [
    "xg_error.best_ntree_limit"
   ],
   "metadata": {
    "collapsed": false,
    "ExecuteTime": {
     "start_time": "2023-04-01T16:26:01.589597Z",
     "end_time": "2023-04-01T16:26:01.729058Z"
    }
   }
  },
  {
   "cell_type": "code",
   "execution_count": null,
   "outputs": [],
   "source": [
    "fig, ax = plt.subplots(figsize=(8, 4))\n",
    "yellowbrick.model_selection.validation_curve(\n",
    "    xgb.XGBClassifier(),\n",
    "    X_train,\n",
    "    y_train,\n",
    "    param_name=\"gamma\",\n",
    "    param_range=[0, 0.5, 1, 5, 10, 20, 30],\n",
    "    n_jobs=1,\n",
    "    ax=ax,\n",
    ")\n",
    "plt.show()"
   ],
   "metadata": {
    "collapsed": false,
    "ExecuteTime": {
     "start_time": "2023-04-01T16:45:39.607809Z",
     "end_time": "2023-04-01T16:45:45.660524Z"
    }
   }
  },
  {
   "cell_type": "markdown",
   "source": [
    "### Learning Rate"
   ],
   "metadata": {
    "collapsed": false
   }
  },
  {
   "cell_type": "code",
   "execution_count": null,
   "outputs": [],
   "source": [
    "kg_lr1 = xgb.XGBClassifier(learning_rate=1, max_depth=2)"
   ],
   "metadata": {
    "collapsed": false,
    "ExecuteTime": {
     "start_time": "2023-04-01T16:48:04.924724Z",
     "end_time": "2023-04-01T16:48:05.018110Z"
    }
   }
  },
  {
   "cell_type": "code",
   "execution_count": null,
   "outputs": [],
   "source": [
    "kg_lr1.fit(X_train, y_train)"
   ],
   "metadata": {
    "collapsed": false,
    "ExecuteTime": {
     "start_time": "2023-04-01T16:48:15.448162Z",
     "end_time": "2023-04-01T16:48:15.780760Z"
    }
   }
  },
  {
   "cell_type": "code",
   "execution_count": null,
   "outputs": [],
   "source": [
    "xgb.plot_tree(kg_lr1, num_trees=0)"
   ],
   "metadata": {
    "collapsed": false,
    "ExecuteTime": {
     "start_time": "2023-04-01T16:50:02.909112Z",
     "end_time": "2023-04-01T16:50:03.754762Z"
    }
   }
  },
  {
   "cell_type": "code",
   "execution_count": null,
   "outputs": [],
   "source": [
    "# check impact of learning weight on scores\n",
    "xg_lr_001 = xgb.XGBClassifier(learning_rate=0.01, max_depth=2)"
   ],
   "metadata": {
    "collapsed": false,
    "ExecuteTime": {
     "start_time": "2023-04-01T16:50:48.868962Z",
     "end_time": "2023-04-01T16:50:48.983416Z"
    }
   }
  },
  {
   "cell_type": "code",
   "execution_count": null,
   "outputs": [],
   "source": [
    "xg_lr_001.fit(X_train, y_train)"
   ],
   "metadata": {
    "collapsed": false,
    "ExecuteTime": {
     "start_time": "2023-04-01T16:50:52.394189Z",
     "end_time": "2023-04-01T16:50:52.676104Z"
    }
   }
  },
  {
   "cell_type": "code",
   "execution_count": null,
   "outputs": [],
   "source": [
    "xgb.plot_tree(xg_lr_001, num_trees=0)"
   ],
   "metadata": {
    "collapsed": false,
    "ExecuteTime": {
     "start_time": "2023-04-01T16:51:00.646997Z",
     "end_time": "2023-04-01T16:51:01.290018Z"
    }
   }
  },
  {
   "cell_type": "markdown",
   "source": [
    "## Grid Search"
   ],
   "metadata": {
    "collapsed": false
   }
  },
  {
   "cell_type": "code",
   "execution_count": null,
   "outputs": [],
   "source": [
    "params: Dict = {\n",
    "    \"reg_lambda\": [0],  # No effect\n",
    "    \"learning_rate\": [0.1, 0.3],  # makes each boost more conservative\n",
    "    \"subsample\": [0.7, 1],\n",
    "    \"max_depth\": [2, 3],\n",
    "    \"random_state\": [42],\n",
    "    \"n_jobs\": [-1],\n",
    "    \"n_estimators\": [200],\n",
    "}"
   ],
   "metadata": {
    "collapsed": false,
    "ExecuteTime": {
     "start_time": "2023-04-01T17:01:43.888910Z",
     "end_time": "2023-04-01T17:01:44.276747Z"
    }
   }
  },
  {
   "cell_type": "code",
   "execution_count": null,
   "outputs": [],
   "source": [
    "xgb2 = xgb.XGBClassifier(early_stopping_rounds=5)"
   ],
   "metadata": {
    "collapsed": false,
    "ExecuteTime": {
     "start_time": "2023-04-01T17:01:45.500719Z",
     "end_time": "2023-04-01T17:01:45.586719Z"
    }
   }
  },
  {
   "cell_type": "code",
   "execution_count": null,
   "outputs": [],
   "source": [
    "cv = model_selection.GridSearchCV(xgb2, params, cv=3, n_jobs=-1).fit(\n",
    "    X_train, y_train, eval_set=[(X_test, y_test)], verbose=50\n",
    ")"
   ],
   "metadata": {
    "collapsed": false,
    "ExecuteTime": {
     "start_time": "2023-04-01T17:01:46.055627Z",
     "end_time": "2023-04-01T17:01:47.174447Z"
    }
   }
  },
  {
   "cell_type": "code",
   "execution_count": null,
   "outputs": [],
   "source": [
    "cv.best_params_"
   ],
   "metadata": {
    "collapsed": false,
    "ExecuteTime": {
     "start_time": "2023-04-01T17:02:24.307263Z",
     "end_time": "2023-04-01T17:02:24.404133Z"
    }
   }
  },
  {
   "cell_type": "code",
   "execution_count": null,
   "outputs": [],
   "source": [
    "xgb_grid = xgb.XGBClassifier(**cv.best_params_, early_stopping_rounds=50)"
   ],
   "metadata": {
    "collapsed": false,
    "ExecuteTime": {
     "start_time": "2023-04-01T17:03:44.923020Z",
     "end_time": "2023-04-01T17:03:45.158648Z"
    }
   }
  },
  {
   "cell_type": "code",
   "execution_count": null,
   "outputs": [],
   "source": [
    "xgb_grid.fit(\n",
    "    X_train, y_train, eval_set=[(X_train, y_train), (X_test, y_test)], verbose=10\n",
    ")"
   ],
   "metadata": {
    "collapsed": false,
    "ExecuteTime": {
     "start_time": "2023-04-01T17:04:52.606188Z",
     "end_time": "2023-04-01T17:04:52.954376Z"
    }
   }
  },
  {
   "cell_type": "markdown",
   "source": [
    "*vs default*"
   ],
   "metadata": {
    "collapsed": false
   }
  },
  {
   "cell_type": "code",
   "execution_count": null,
   "outputs": [],
   "source": [
    "xgb_def = xgb.XGBClassifier(early_stopping_rounds=50)"
   ],
   "metadata": {
    "collapsed": false,
    "ExecuteTime": {
     "start_time": "2023-04-01T17:06:01.291555Z",
     "end_time": "2023-04-01T17:06:01.637432Z"
    }
   }
  },
  {
   "cell_type": "code",
   "execution_count": null,
   "outputs": [],
   "source": [
    "xgb_def.fit(\n",
    "    X_train, y_train, eval_set=[(X_train, y_train), (X_test, y_test)], verbose=10\n",
    ")"
   ],
   "metadata": {
    "collapsed": false,
    "ExecuteTime": {
     "start_time": "2023-04-01T17:06:14.543205Z",
     "end_time": "2023-04-01T17:06:15.051163Z"
    }
   }
  },
  {
   "cell_type": "code",
   "execution_count": null,
   "outputs": [],
   "source": [
    "xgb_def.score(X_test, y_test), xgb_grid.score(X_test, y_test)"
   ],
   "metadata": {
    "collapsed": false,
    "ExecuteTime": {
     "start_time": "2023-04-01T17:06:52.545477Z",
     "end_time": "2023-04-01T17:06:52.639014Z"
    }
   }
  },
  {
   "cell_type": "markdown",
   "source": [
    "*cross validation*"
   ],
   "metadata": {
    "collapsed": false
   }
  },
  {
   "cell_type": "code",
   "execution_count": 89,
   "outputs": [],
   "source": [
    "results_default = model_selection.cross_val_score(xgb.XGBClassifier(), X=X, y=y, cv=4)"
   ],
   "metadata": {
    "collapsed": false,
    "ExecuteTime": {
     "start_time": "2023-04-01T17:13:05.264009Z",
     "end_time": "2023-04-01T17:13:06.795163Z"
    }
   }
  },
  {
   "cell_type": "code",
   "execution_count": 90,
   "outputs": [
    {
     "data": {
      "text/plain": "array([0.71352785, 0.72413793, 0.69496021, 0.74501992])"
     },
     "execution_count": 90,
     "metadata": {},
     "output_type": "execute_result"
    }
   ],
   "source": [
    "results_default"
   ],
   "metadata": {
    "collapsed": false,
    "ExecuteTime": {
     "start_time": "2023-04-01T17:13:10.220808Z",
     "end_time": "2023-04-01T17:13:10.332191Z"
    }
   }
  },
  {
   "cell_type": "code",
   "execution_count": 91,
   "outputs": [
    {
     "data": {
      "text/plain": "0.7194114787534214"
     },
     "execution_count": 91,
     "metadata": {},
     "output_type": "execute_result"
    }
   ],
   "source": [
    "results_default.mean()"
   ],
   "metadata": {
    "collapsed": false,
    "ExecuteTime": {
     "start_time": "2023-04-01T17:13:13.578668Z",
     "end_time": "2023-04-01T17:13:13.667813Z"
    }
   }
  },
  {
   "cell_type": "code",
   "execution_count": 92,
   "outputs": [],
   "source": [
    "results_grid = model_selection.cross_val_score(\n",
    "    xgb.XGBClassifier(**cv.best_params_), X=X, y=y, cv=4\n",
    ")"
   ],
   "metadata": {
    "collapsed": false,
    "ExecuteTime": {
     "start_time": "2023-04-01T17:13:14.810802Z",
     "end_time": "2023-04-01T17:13:15.828971Z"
    }
   }
  },
  {
   "cell_type": "code",
   "execution_count": 93,
   "outputs": [
    {
     "data": {
      "text/plain": "array([0.74137931, 0.74137931, 0.74801061, 0.73572377])"
     },
     "execution_count": 93,
     "metadata": {},
     "output_type": "execute_result"
    }
   ],
   "source": [
    "results_grid"
   ],
   "metadata": {
    "collapsed": false,
    "ExecuteTime": {
     "start_time": "2023-04-01T17:13:16.351617Z",
     "end_time": "2023-04-01T17:13:16.444647Z"
    }
   }
  },
  {
   "cell_type": "code",
   "execution_count": 94,
   "outputs": [
    {
     "data": {
      "text/plain": "0.7416232505873941"
     },
     "execution_count": 94,
     "metadata": {},
     "output_type": "execute_result"
    }
   ],
   "source": [
    "results_grid.mean()"
   ],
   "metadata": {
    "collapsed": false,
    "ExecuteTime": {
     "start_time": "2023-04-01T17:13:17.287219Z",
     "end_time": "2023-04-01T17:13:17.378941Z"
    }
   }
  },
  {
   "cell_type": "markdown",
   "source": [
    "# Hyperot"
   ],
   "metadata": {
    "collapsed": false
   }
  },
  {
   "cell_type": "code",
   "execution_count": 97,
   "outputs": [],
   "source": [
    "# 2 hours of trainning(matt harrison)\n",
    "longs_params: Dict = {\n",
    "    \"colsample_bytree\": 0.6874845219014455,\n",
    "    \"gamma\": 0.06936323554883501,\n",
    "    \"learning_rate\": 0.21439214284976907,\n",
    "    \"max_depth\": 6,\n",
    "    \"min_child_weight\": 0.6678357091609912,\n",
    "    \"reg_alpha\": 3.2979862933185546,\n",
    "    \"reg_lambda\": 7.850943400390477,\n",
    "    \"subsample\": 0.999767483950891,\n",
    "}"
   ],
   "metadata": {
    "collapsed": false,
    "ExecuteTime": {
     "start_time": "2023-04-01T18:09:34.234999Z",
     "end_time": "2023-04-01T18:09:34.871872Z"
    }
   }
  },
  {
   "cell_type": "code",
   "execution_count": 98,
   "outputs": [],
   "source": [
    "xg_ex = xgb.XGBClassifier(**longs_params, early_stopping_rounds=50, n_estimators=500)"
   ],
   "metadata": {
    "collapsed": false,
    "ExecuteTime": {
     "start_time": "2023-04-01T18:10:07.727510Z",
     "end_time": "2023-04-01T18:10:07.846338Z"
    }
   }
  },
  {
   "cell_type": "code",
   "execution_count": 99,
   "outputs": [
    {
     "name": "stdout",
     "output_type": "stream",
     "text": [
      "[0]\tvalidation_0-logloss:0.65346\tvalidation_1-logloss:0.65468\n",
      "[100]\tvalidation_0-logloss:0.45552\tvalidation_1-logloss:0.49702\n",
      "[120]\tvalidation_0-logloss:0.45454\tvalidation_1-logloss:0.49729\n"
     ]
    },
    {
     "data": {
      "text/plain": "XGBClassifier(base_score=None, booster=None, callbacks=None,\n              colsample_bylevel=None, colsample_bynode=None,\n              colsample_bytree=0.6874845219014455, early_stopping_rounds=50,\n              enable_categorical=False, eval_metric=None, feature_types=None,\n              gamma=0.06936323554883501, gpu_id=None, grow_policy=None,\n              importance_type=None, interaction_constraints=None,\n              learning_rate=0.21439214284976907, max_bin=None,\n              max_cat_threshold=None, max_cat_to_onehot=None,\n              max_delta_step=None, max_depth=6, max_leaves=None,\n              min_child_weight=0.6678357091609912, missing=nan,\n              monotone_constraints=None, n_estimators=500, n_jobs=None,\n              num_parallel_tree=None, predictor=None, random_state=None, ...)",
      "text/html": "<style>#sk-container-id-13 {color: black;background-color: white;}#sk-container-id-13 pre{padding: 0;}#sk-container-id-13 div.sk-toggleable {background-color: white;}#sk-container-id-13 label.sk-toggleable__label {cursor: pointer;display: block;width: 100%;margin-bottom: 0;padding: 0.3em;box-sizing: border-box;text-align: center;}#sk-container-id-13 label.sk-toggleable__label-arrow:before {content: \"▸\";float: left;margin-right: 0.25em;color: #696969;}#sk-container-id-13 label.sk-toggleable__label-arrow:hover:before {color: black;}#sk-container-id-13 div.sk-estimator:hover label.sk-toggleable__label-arrow:before {color: black;}#sk-container-id-13 div.sk-toggleable__content {max-height: 0;max-width: 0;overflow: hidden;text-align: left;background-color: #f0f8ff;}#sk-container-id-13 div.sk-toggleable__content pre {margin: 0.2em;color: black;border-radius: 0.25em;background-color: #f0f8ff;}#sk-container-id-13 input.sk-toggleable__control:checked~div.sk-toggleable__content {max-height: 200px;max-width: 100%;overflow: auto;}#sk-container-id-13 input.sk-toggleable__control:checked~label.sk-toggleable__label-arrow:before {content: \"▾\";}#sk-container-id-13 div.sk-estimator input.sk-toggleable__control:checked~label.sk-toggleable__label {background-color: #d4ebff;}#sk-container-id-13 div.sk-label input.sk-toggleable__control:checked~label.sk-toggleable__label {background-color: #d4ebff;}#sk-container-id-13 input.sk-hidden--visually {border: 0;clip: rect(1px 1px 1px 1px);clip: rect(1px, 1px, 1px, 1px);height: 1px;margin: -1px;overflow: hidden;padding: 0;position: absolute;width: 1px;}#sk-container-id-13 div.sk-estimator {font-family: monospace;background-color: #f0f8ff;border: 1px dotted black;border-radius: 0.25em;box-sizing: border-box;margin-bottom: 0.5em;}#sk-container-id-13 div.sk-estimator:hover {background-color: #d4ebff;}#sk-container-id-13 div.sk-parallel-item::after {content: \"\";width: 100%;border-bottom: 1px solid gray;flex-grow: 1;}#sk-container-id-13 div.sk-label:hover label.sk-toggleable__label {background-color: #d4ebff;}#sk-container-id-13 div.sk-serial::before {content: \"\";position: absolute;border-left: 1px solid gray;box-sizing: border-box;top: 0;bottom: 0;left: 50%;z-index: 0;}#sk-container-id-13 div.sk-serial {display: flex;flex-direction: column;align-items: center;background-color: white;padding-right: 0.2em;padding-left: 0.2em;position: relative;}#sk-container-id-13 div.sk-item {position: relative;z-index: 1;}#sk-container-id-13 div.sk-parallel {display: flex;align-items: stretch;justify-content: center;background-color: white;position: relative;}#sk-container-id-13 div.sk-item::before, #sk-container-id-13 div.sk-parallel-item::before {content: \"\";position: absolute;border-left: 1px solid gray;box-sizing: border-box;top: 0;bottom: 0;left: 50%;z-index: -1;}#sk-container-id-13 div.sk-parallel-item {display: flex;flex-direction: column;z-index: 1;position: relative;background-color: white;}#sk-container-id-13 div.sk-parallel-item:first-child::after {align-self: flex-end;width: 50%;}#sk-container-id-13 div.sk-parallel-item:last-child::after {align-self: flex-start;width: 50%;}#sk-container-id-13 div.sk-parallel-item:only-child::after {width: 0;}#sk-container-id-13 div.sk-dashed-wrapped {border: 1px dashed gray;margin: 0 0.4em 0.5em 0.4em;box-sizing: border-box;padding-bottom: 0.4em;background-color: white;}#sk-container-id-13 div.sk-label label {font-family: monospace;font-weight: bold;display: inline-block;line-height: 1.2em;}#sk-container-id-13 div.sk-label-container {text-align: center;}#sk-container-id-13 div.sk-container {/* jupyter's `normalize.less` sets `[hidden] { display: none; }` but bootstrap.min.css set `[hidden] { display: none !important; }` so we also need the `!important` here to be able to override the default hidden behavior on the sphinx rendered scikit-learn.org. See: https://github.com/scikit-learn/scikit-learn/issues/21755 */display: inline-block !important;position: relative;}#sk-container-id-13 div.sk-text-repr-fallback {display: none;}</style><div id=\"sk-container-id-13\" class=\"sk-top-container\"><div class=\"sk-text-repr-fallback\"><pre>XGBClassifier(base_score=None, booster=None, callbacks=None,\n              colsample_bylevel=None, colsample_bynode=None,\n              colsample_bytree=0.6874845219014455, early_stopping_rounds=50,\n              enable_categorical=False, eval_metric=None, feature_types=None,\n              gamma=0.06936323554883501, gpu_id=None, grow_policy=None,\n              importance_type=None, interaction_constraints=None,\n              learning_rate=0.21439214284976907, max_bin=None,\n              max_cat_threshold=None, max_cat_to_onehot=None,\n              max_delta_step=None, max_depth=6, max_leaves=None,\n              min_child_weight=0.6678357091609912, missing=nan,\n              monotone_constraints=None, n_estimators=500, n_jobs=None,\n              num_parallel_tree=None, predictor=None, random_state=None, ...)</pre><b>In a Jupyter environment, please rerun this cell to show the HTML representation or trust the notebook. <br />On GitHub, the HTML representation is unable to render, please try loading this page with nbviewer.org.</b></div><div class=\"sk-container\" hidden><div class=\"sk-item\"><div class=\"sk-estimator sk-toggleable\"><input class=\"sk-toggleable__control sk-hidden--visually\" id=\"sk-estimator-id-15\" type=\"checkbox\" checked><label for=\"sk-estimator-id-15\" class=\"sk-toggleable__label sk-toggleable__label-arrow\">XGBClassifier</label><div class=\"sk-toggleable__content\"><pre>XGBClassifier(base_score=None, booster=None, callbacks=None,\n              colsample_bylevel=None, colsample_bynode=None,\n              colsample_bytree=0.6874845219014455, early_stopping_rounds=50,\n              enable_categorical=False, eval_metric=None, feature_types=None,\n              gamma=0.06936323554883501, gpu_id=None, grow_policy=None,\n              importance_type=None, interaction_constraints=None,\n              learning_rate=0.21439214284976907, max_bin=None,\n              max_cat_threshold=None, max_cat_to_onehot=None,\n              max_delta_step=None, max_depth=6, max_leaves=None,\n              min_child_weight=0.6678357091609912, missing=nan,\n              monotone_constraints=None, n_estimators=500, n_jobs=None,\n              num_parallel_tree=None, predictor=None, random_state=None, ...)</pre></div></div></div></div></div>"
     },
     "execution_count": 99,
     "metadata": {},
     "output_type": "execute_result"
    }
   ],
   "source": [
    "xg_ex.fit(\n",
    "    X_train, y_train, eval_set=[(X_train, y_train), (X_test, y_test)], verbose=100\n",
    ")"
   ],
   "metadata": {
    "collapsed": false,
    "ExecuteTime": {
     "start_time": "2023-04-01T18:10:36.475180Z",
     "end_time": "2023-04-01T18:10:36.848140Z"
    }
   }
  },
  {
   "cell_type": "code",
   "execution_count": 101,
   "outputs": [
    {
     "data": {
      "text/plain": "0.7580110497237569"
     },
     "execution_count": 101,
     "metadata": {},
     "output_type": "execute_result"
    }
   ],
   "source": [
    "xg_ex.score(X_test, y_test)"
   ],
   "metadata": {
    "collapsed": false,
    "ExecuteTime": {
     "start_time": "2023-04-01T18:12:03.861695Z",
     "end_time": "2023-04-01T18:12:03.992613Z"
    }
   }
  },
  {
   "cell_type": "code",
   "execution_count": null,
   "outputs": [],
   "source": [],
   "metadata": {
    "collapsed": false
   }
  }
 ],
 "metadata": {
  "kernelspec": {
   "display_name": "Python 3",
   "language": "python",
   "name": "python3"
  },
  "language_info": {
   "codemirror_mode": {
    "name": "ipython",
    "version": 3
   },
   "file_extension": ".py",
   "mimetype": "text/x-python",
   "name": "python",
   "nbconvert_exporter": "python",
   "pygments_lexer": "ipython3",
   "version": "3.11.0"
  }
 },
 "nbformat": 4,
 "nbformat_minor": 0
}
